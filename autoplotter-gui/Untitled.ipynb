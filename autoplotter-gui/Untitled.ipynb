{
 "cells": [
  {
   "cell_type": "markdown",
   "metadata": {},
   "source": [
    "# AutoPlotter: Une analyse de données exploratoire basée sur une interface graphique en Python"
   ]
  },
  {
   "cell_type": "markdown",
   "metadata": {},
   "source": [
    "À propos de PyPi (Python Package Index): https://pypi.org/\n",
    "* The Python Package Index (PyPI) is a repository of software for the Python programming language.\n",
    "\n",
    "À propos de AutoPlotter: https://pypi.org/project/autoplotter/"
   ]
  },
  {
   "cell_type": "markdown",
   "metadata": {},
   "source": [
    "## Installation de autoplotter via pip package manager"
   ]
  },
  {
   "cell_type": "code",
   "execution_count": 2,
   "metadata": {},
   "outputs": [
    {
     "name": "stdout",
     "output_type": "stream",
     "text": [
      "Collecting autoplotter\n",
      "Collecting dash (from autoplotter)\n",
      "  Using cached https://files.pythonhosted.org/packages/cc/42/e1692b2d34e4135569db680efe3438e809a6b3f0ae607ad41aeff7741672/dash-2.6.1-py3-none-any.whl\n",
      "Collecting dash-bootstrap-components (from autoplotter)\n",
      "  Using cached https://files.pythonhosted.org/packages/84/03/1e8fd2cb4cb334593f1c73a7035aad6358261f7f199156d26047f21cdb74/dash_bootstrap_components-1.2.1-py3-none-any.whl\n",
      "Collecting jupyter-dash (from autoplotter)\n",
      "  Using cached https://files.pythonhosted.org/packages/38/62/2c51aeb18c6d765c03c911e4d70f029ccb9de1a991d88cf30e362d2433c9/jupyter_dash-0.4.2-py3-none-any.whl\n",
      "Requirement already satisfied: numpy in /Users/vincentprudhomme/Library/Python/3.7/lib/python/site-packages (from autoplotter) (1.21.2)\n",
      "Collecting dash-table (from autoplotter)\n",
      "  Using cached https://files.pythonhosted.org/packages/da/ce/43f77dc8e7bbad02a9f88d07bf794eaf68359df756a28bb9f2f78e255bb1/dash_table-5.0.0-py3-none-any.whl\n",
      "Requirement already satisfied: pandas in /Users/vincentprudhomme/Library/Python/3.7/lib/python/site-packages (from autoplotter) (1.3.3)\n",
      "Collecting dash-core-components==2.0.0 (from dash->autoplotter)\n",
      "  Using cached https://files.pythonhosted.org/packages/00/9e/a29f726e84e531a36d56cff187e61d8c96d2cc253c5bcef9a7695acb7e6a/dash_core_components-2.0.0-py3-none-any.whl\n",
      "Collecting flask-compress (from dash->autoplotter)\n",
      "  Using cached https://files.pythonhosted.org/packages/d5/08/91ffc9506cb569f45cc4781ac8d35c6be19b9c3c8b1f8bc77aed56a46b53/Flask_Compress-1.12-py3-none-any.whl\n",
      "Collecting dash-html-components==2.0.0 (from dash->autoplotter)\n",
      "  Using cached https://files.pythonhosted.org/packages/75/65/1b16b853844ef59b2742a7de74a598f376ac0ab581f0dcc34db294e5c90e/dash_html_components-2.0.0-py3-none-any.whl\n",
      "Requirement already satisfied: plotly>=5.0.0 in /Users/vincentprudhomme/Library/Python/3.7/lib/python/site-packages (from dash->autoplotter) (5.3.1)\n",
      "Collecting Flask>=1.0.4 (from dash->autoplotter)\n",
      "  Using cached https://files.pythonhosted.org/packages/7b/97/3b7716320e560f937e356773a4ec7846c2617b78f6b7d1334cd1725ba834/Flask-2.2.0-py3-none-any.whl\n",
      "Requirement already satisfied: ipykernel in /Users/vincentprudhomme/Library/Python/3.7/lib/python/site-packages (from jupyter-dash->autoplotter) (6.4.1)\n",
      "Requirement already satisfied: nest-asyncio in /Users/vincentprudhomme/Library/Python/3.7/lib/python/site-packages (from jupyter-dash->autoplotter) (1.5.1)\n",
      "Requirement already satisfied: requests in /Users/vincentprudhomme/Library/Python/3.7/lib/python/site-packages (from jupyter-dash->autoplotter) (2.26.0)\n",
      "Collecting retrying (from jupyter-dash->autoplotter)\n",
      "  Using cached https://files.pythonhosted.org/packages/44/ef/beae4b4ef80902f22e3af073397f079c96969c69b2c7d52a57ea9ae61c9d/retrying-1.3.3.tar.gz\n",
      "Collecting ansi2html (from jupyter-dash->autoplotter)\n",
      "  Using cached https://files.pythonhosted.org/packages/e6/7f/ff656e2c8e83873122cc22d345fb68f82a005f19848b04e53e49361ac547/ansi2html-1.8.0-py3-none-any.whl\n",
      "Requirement already satisfied: ipython in /Users/vincentprudhomme/Library/Python/3.7/lib/python/site-packages (from jupyter-dash->autoplotter) (7.28.0)\n",
      "Requirement already satisfied: python-dateutil>=2.7.3 in /Users/vincentprudhomme/Library/Python/3.7/lib/python/site-packages (from pandas->autoplotter) (2.8.2)\n",
      "Requirement already satisfied: pytz>=2017.3 in /Users/vincentprudhomme/Library/Python/3.7/lib/python/site-packages (from pandas->autoplotter) (2021.3)\n",
      "Collecting brotli (from flask-compress->dash->autoplotter)\n",
      "  Using cached https://files.pythonhosted.org/packages/3f/cf/e720979db49a4529d6651a8d31592ce81a901950583ae98759b5369617fa/Brotli-1.0.9-cp37-cp37m-macosx_10_9_x86_64.whl\n",
      "Requirement already satisfied: tenacity>=6.2.0 in /Users/vincentprudhomme/Library/Python/3.7/lib/python/site-packages (from plotly>=5.0.0->dash->autoplotter) (8.0.1)\n",
      "Requirement already satisfied: six in /Library/Developer/CommandLineTools/Library/Frameworks/Python3.framework/Versions/3.7/lib/python3.7/site-packages (from plotly>=5.0.0->dash->autoplotter) (1.12.0)\n",
      "Requirement already satisfied: Jinja2>=3.0 in /Users/vincentprudhomme/Library/Python/3.7/lib/python/site-packages (from Flask>=1.0.4->dash->autoplotter) (3.0.2)\n",
      "Collecting click>=8.0 (from Flask>=1.0.4->dash->autoplotter)\n",
      "  Using cached https://files.pythonhosted.org/packages/c2/f1/df59e28c642d583f7dacffb1e0965d0e00b218e0186d7858ac5233dce840/click-8.1.3-py3-none-any.whl\n",
      "Requirement already satisfied: importlib-metadata>=3.6.0; python_version < \"3.10\" in /Users/vincentprudhomme/Library/Python/3.7/lib/python/site-packages (from Flask>=1.0.4->dash->autoplotter) (4.8.1)\n",
      "Collecting itsdangerous>=2.0 (from Flask>=1.0.4->dash->autoplotter)\n",
      "  Using cached https://files.pythonhosted.org/packages/68/5f/447e04e828f47465eeab35b5d408b7ebaaaee207f48b7136c5a7267a30ae/itsdangerous-2.1.2-py3-none-any.whl\n",
      "Collecting Werkzeug>=2.2.0 (from Flask>=1.0.4->dash->autoplotter)\n",
      "  Using cached https://files.pythonhosted.org/packages/c0/93/d6d60870e47162ea6a1bbdd787649eea776b2a70618dd66ed87cb2238543/Werkzeug-2.2.1-py3-none-any.whl\n",
      "Requirement already satisfied: traitlets<6.0,>=4.1.0 in /Users/vincentprudhomme/Library/Python/3.7/lib/python/site-packages (from ipykernel->jupyter-dash->autoplotter) (5.1.0)\n",
      "Requirement already satisfied: matplotlib-inline<0.2.0,>=0.1.0 in /Users/vincentprudhomme/Library/Python/3.7/lib/python/site-packages (from ipykernel->jupyter-dash->autoplotter) (0.1.3)\n",
      "Requirement already satisfied: debugpy<2.0,>=1.0.0 in /Users/vincentprudhomme/Library/Python/3.7/lib/python/site-packages (from ipykernel->jupyter-dash->autoplotter) (1.5.0)\n",
      "Requirement already satisfied: appnope; platform_system == \"Darwin\" in /Users/vincentprudhomme/Library/Python/3.7/lib/python/site-packages (from ipykernel->jupyter-dash->autoplotter) (0.1.2)\n",
      "Requirement already satisfied: jupyter-client<8.0 in /Users/vincentprudhomme/Library/Python/3.7/lib/python/site-packages (from ipykernel->jupyter-dash->autoplotter) (7.0.6)\n",
      "Requirement already satisfied: argcomplete>=1.12.3; python_version < \"3.8.0\" in /Users/vincentprudhomme/Library/Python/3.7/lib/python/site-packages (from ipykernel->jupyter-dash->autoplotter) (1.12.3)\n",
      "Requirement already satisfied: tornado<7.0,>=4.2 in /Users/vincentprudhomme/Library/Python/3.7/lib/python/site-packages (from ipykernel->jupyter-dash->autoplotter) (6.1)\n",
      "Requirement already satisfied: ipython-genutils in /Users/vincentprudhomme/Library/Python/3.7/lib/python/site-packages (from ipykernel->jupyter-dash->autoplotter) (0.2.0)\n",
      "Requirement already satisfied: urllib3<1.27,>=1.21.1 in /Users/vincentprudhomme/Library/Python/3.7/lib/python/site-packages (from requests->jupyter-dash->autoplotter) (1.26.7)\n",
      "Requirement already satisfied: idna<4,>=2.5; python_version >= \"3\" in /Users/vincentprudhomme/Library/Python/3.7/lib/python/site-packages (from requests->jupyter-dash->autoplotter) (3.2)\n",
      "Requirement already satisfied: charset-normalizer~=2.0.0; python_version >= \"3\" in /Users/vincentprudhomme/Library/Python/3.7/lib/python/site-packages (from requests->jupyter-dash->autoplotter) (2.0.7)\n",
      "Requirement already satisfied: certifi>=2017.4.17 in /Users/vincentprudhomme/Library/Python/3.7/lib/python/site-packages (from requests->jupyter-dash->autoplotter) (2021.10.8)\n",
      "Requirement already satisfied: pexpect>4.3; sys_platform != \"win32\" in /Users/vincentprudhomme/Library/Python/3.7/lib/python/site-packages (from ipython->jupyter-dash->autoplotter) (4.8.0)\n",
      "Requirement already satisfied: pygments in /Users/vincentprudhomme/Library/Python/3.7/lib/python/site-packages (from ipython->jupyter-dash->autoplotter) (2.10.0)\n",
      "Requirement already satisfied: backcall in /Users/vincentprudhomme/Library/Python/3.7/lib/python/site-packages (from ipython->jupyter-dash->autoplotter) (0.2.0)\n",
      "Requirement already satisfied: prompt-toolkit!=3.0.0,!=3.0.1,<3.1.0,>=2.0.0 in /Users/vincentprudhomme/Library/Python/3.7/lib/python/site-packages (from ipython->jupyter-dash->autoplotter) (3.0.20)\n",
      "Requirement already satisfied: setuptools>=18.5 in /Library/Developer/CommandLineTools/Library/Frameworks/Python3.framework/Versions/3.7/lib/python3.7/site-packages (from ipython->jupyter-dash->autoplotter) (40.8.0)\n",
      "Requirement already satisfied: decorator in /Users/vincentprudhomme/Library/Python/3.7/lib/python/site-packages (from ipython->jupyter-dash->autoplotter) (5.1.0)\n",
      "Requirement already satisfied: jedi>=0.16 in /Users/vincentprudhomme/Library/Python/3.7/lib/python/site-packages (from ipython->jupyter-dash->autoplotter) (0.18.0)\n",
      "Requirement already satisfied: pickleshare in /Users/vincentprudhomme/Library/Python/3.7/lib/python/site-packages (from ipython->jupyter-dash->autoplotter) (0.7.5)\n",
      "Requirement already satisfied: MarkupSafe>=2.0 in /Users/vincentprudhomme/Library/Python/3.7/lib/python/site-packages (from Jinja2>=3.0->Flask>=1.0.4->dash->autoplotter) (2.0.1)\n",
      "Requirement already satisfied: typing-extensions>=3.6.4; python_version < \"3.8\" in /Users/vincentprudhomme/Library/Python/3.7/lib/python/site-packages (from importlib-metadata>=3.6.0; python_version < \"3.10\"->Flask>=1.0.4->dash->autoplotter) (3.10.0.2)\n",
      "Requirement already satisfied: zipp>=0.5 in /Users/vincentprudhomme/Library/Python/3.7/lib/python/site-packages (from importlib-metadata>=3.6.0; python_version < \"3.10\"->Flask>=1.0.4->dash->autoplotter) (3.6.0)\n",
      "Requirement already satisfied: jupyter-core>=4.6.0 in /Users/vincentprudhomme/Library/Python/3.7/lib/python/site-packages (from jupyter-client<8.0->ipykernel->jupyter-dash->autoplotter) (4.8.1)\n",
      "Requirement already satisfied: pyzmq>=13 in /Users/vincentprudhomme/Library/Python/3.7/lib/python/site-packages (from jupyter-client<8.0->ipykernel->jupyter-dash->autoplotter) (22.3.0)\n",
      "Requirement already satisfied: entrypoints in /Users/vincentprudhomme/Library/Python/3.7/lib/python/site-packages (from jupyter-client<8.0->ipykernel->jupyter-dash->autoplotter) (0.3)\n",
      "Requirement already satisfied: ptyprocess>=0.5 in /Users/vincentprudhomme/Library/Python/3.7/lib/python/site-packages (from pexpect>4.3; sys_platform != \"win32\"->ipython->jupyter-dash->autoplotter) (0.7.0)\n",
      "Requirement already satisfied: wcwidth in /Users/vincentprudhomme/Library/Python/3.7/lib/python/site-packages (from prompt-toolkit!=3.0.0,!=3.0.1,<3.1.0,>=2.0.0->ipython->jupyter-dash->autoplotter) (0.2.5)\n",
      "Requirement already satisfied: parso<0.9.0,>=0.8.0 in /Users/vincentprudhomme/Library/Python/3.7/lib/python/site-packages (from jedi>=0.16->ipython->jupyter-dash->autoplotter) (0.8.2)\n",
      "Building wheels for collected packages: retrying\n",
      "  Building wheel for retrying (setup.py) ... \u001b[?25ldone\n",
      "\u001b[?25h  Stored in directory: /Users/vincentprudhomme/Library/Caches/pip/wheels/d7/a9/33/acc7b709e2a35caa7d4cae442f6fe6fbf2c43f80823d46460c\n",
      "Successfully built retrying\n",
      "\u001b[31mwerkzeug 2.2.1 has requirement MarkupSafe>=2.1.1, but you'll have markupsafe 2.0.1 which is incompatible.\u001b[0m\n",
      "Installing collected packages: dash-core-components, dash-table, click, itsdangerous, Werkzeug, Flask, brotli, flask-compress, dash-html-components, dash, dash-bootstrap-components, retrying, ansi2html, jupyter-dash, autoplotter\n",
      "\u001b[31mCould not install packages due to an EnvironmentError: [Errno 13] Permission denied: '/Library/Python/3.7'\n",
      "Consider using the `--user` option or check the permissions.\n",
      "\u001b[0m\n",
      "\u001b[33mYou are using pip version 19.0.3, however version 22.2.2 is available.\n",
      "You should consider upgrading via the 'pip install --upgrade pip' command.\u001b[0m\n",
      "Note: you may need to restart the kernel to use updated packages.\n"
     ]
    }
   ],
   "source": [
    "pip install autoplotter\n"
   ]
  },
  {
   "cell_type": "markdown",
   "metadata": {},
   "source": [
    "## Librairie autoplotter"
   ]
  },
  {
   "cell_type": "code",
   "execution_count": 4,
   "metadata": {},
   "outputs": [
    {
     "ename": "ModuleNotFoundError",
     "evalue": "No module named 'autoplotter'",
     "output_type": "error",
     "traceback": [
      "\u001b[0;31m---------------------------------------------------------------------------\u001b[0m",
      "\u001b[0;31mModuleNotFoundError\u001b[0m                       Traceback (most recent call last)",
      "\u001b[0;32m/var/folders/nc/v1tm07cd0jx_rgmt638_66hh0000gn/T/ipykernel_22788/3721925496.py\u001b[0m in \u001b[0;36m<module>\u001b[0;34m\u001b[0m\n\u001b[0;32m----> 1\u001b[0;31m \u001b[0;32mfrom\u001b[0m \u001b[0mautoplotter\u001b[0m \u001b[0;32mimport\u001b[0m \u001b[0mrun_app\u001b[0m\u001b[0;34m\u001b[0m\u001b[0;34m\u001b[0m\u001b[0m\n\u001b[0m",
      "\u001b[0;31mModuleNotFoundError\u001b[0m: No module named 'autoplotter'"
     ]
    }
   ],
   "source": [
    "from autoplotter import run_app"
   ]
  },
  {
   "cell_type": "markdown",
   "metadata": {},
   "source": [
    "## Data"
   ]
  },
  {
   "cell_type": "code",
   "execution_count": null,
   "metadata": {},
   "outputs": [],
   "source": [
    "import pandas as pd #Importing Pandas to read csv\n",
    "df = pd.read_csv('https://raw.githubusercontent.com/dataprofessor/data/master/nba-player-stats-2019.csv')\n"
   ]
  },
  {
   "cell_type": "code",
   "execution_count": null,
   "metadata": {},
   "outputs": [],
   "source": [
    "df"
   ]
  },
  {
   "cell_type": "markdown",
   "metadata": {},
   "source": [
    "## Run App: Autoplotter"
   ]
  },
  {
   "cell_type": "code",
   "execution_count": null,
   "metadata": {},
   "outputs": [],
   "source": [
    "run_app(df,mode='external')"
   ]
  },
  {
   "cell_type": "code",
   "execution_count": null,
   "metadata": {},
   "outputs": [],
   "source": []
  }
 ],
 "metadata": {
  "kernelspec": {
   "display_name": "Python 3.7.3 64-bit",
   "language": "python",
   "name": "python3"
  },
  "language_info": {
   "codemirror_mode": {
    "name": "ipython",
    "version": 3
   },
   "file_extension": ".py",
   "mimetype": "text/x-python",
   "name": "python",
   "nbconvert_exporter": "python",
   "pygments_lexer": "ipython3",
   "version": "3.7.3"
  },
  "vscode": {
   "interpreter": {
    "hash": "31f2aee4e71d21fbe5cf8b01ff0e069b9275f58929596ceb00d14d90e3e16cd6"
   }
  }
 },
 "nbformat": 4,
 "nbformat_minor": 2
}
