{
 "cells": [
  {
   "cell_type": "markdown",
   "metadata": {},
   "source": [
    "# AutoPlotter: Une analyse de données exploratoire basée sur une interface graphique en Python"
   ]
  },
  {
   "cell_type": "markdown",
   "metadata": {},
   "source": [
    "À propos de AutoPlotter: https://pypi.org/project/autoplotter/"
   ]
  },
  {
   "cell_type": "markdown",
   "metadata": {},
   "source": [
    "## Installation de autoplotter via pip"
   ]
  },
  {
   "cell_type": "code",
   "execution_count": 2,
   "metadata": {},
   "outputs": [
    {
     "name": "stdout",
     "output_type": "stream",
     "text": [
      "Collecting autoplotter\n",
      "  Downloading https://files.pythonhosted.org/packages/48/25/64251f447c6c84ba87826a2da83f5c7f3e5b291744f18ecef21ab89e4e0e/autoplotter-0.1.0.tar.gz\n",
      "Collecting dash (from autoplotter)\n",
      "\u001b[?25l  Downloading https://files.pythonhosted.org/packages/cc/42/e1692b2d34e4135569db680efe3438e809a6b3f0ae607ad41aeff7741672/dash-2.6.1-py3-none-any.whl (9.9MB)\n",
      "\u001b[K     |████████████████████████████████| 9.9MB 8.5MB/s eta 0:00:01\n",
      "\u001b[?25hCollecting dash_bootstrap_components (from autoplotter)\n",
      "\u001b[?25l  Downloading https://files.pythonhosted.org/packages/84/03/1e8fd2cb4cb334593f1c73a7035aad6358261f7f199156d26047f21cdb74/dash_bootstrap_components-1.2.1-py3-none-any.whl (216kB)\n",
      "\u001b[K     |████████████████████████████████| 225kB 18.0MB/s eta 0:00:01\n",
      "\u001b[?25hRequirement already satisfied: pandas in /Users/vincentprudhomme/opt/anaconda3/lib/python3.7/site-packages (from autoplotter) (0.25.1)\n",
      "Collecting dash_table (from autoplotter)\n",
      "  Downloading https://files.pythonhosted.org/packages/da/ce/43f77dc8e7bbad02a9f88d07bf794eaf68359df756a28bb9f2f78e255bb1/dash_table-5.0.0-py3-none-any.whl\n",
      "Requirement already satisfied: numpy in /Users/vincentprudhomme/opt/anaconda3/lib/python3.7/site-packages (from autoplotter) (1.17.2)\n",
      "Collecting jupyter-dash (from autoplotter)\n",
      "  Downloading https://files.pythonhosted.org/packages/38/62/2c51aeb18c6d765c03c911e4d70f029ccb9de1a991d88cf30e362d2433c9/jupyter_dash-0.4.2-py3-none-any.whl\n",
      "Collecting flask-compress (from dash->autoplotter)\n",
      "  Downloading https://files.pythonhosted.org/packages/d5/08/91ffc9506cb569f45cc4781ac8d35c6be19b9c3c8b1f8bc77aed56a46b53/Flask_Compress-1.12-py3-none-any.whl\n",
      "Requirement already satisfied: Flask>=1.0.4 in /Users/vincentprudhomme/opt/anaconda3/lib/python3.7/site-packages (from dash->autoplotter) (1.1.1)\n",
      "Collecting plotly>=5.0.0 (from dash->autoplotter)\n",
      "\u001b[?25l  Downloading https://files.pythonhosted.org/packages/2d/6a/2c2e9ed190066646bbf1620c0b67f8e363e0024ee7bf0d3ea1fdcc9af3ae/plotly-5.9.0-py2.py3-none-any.whl (15.2MB)\n",
      "\u001b[K     |████████████████████████████████| 15.2MB 9.8MB/s eta 0:00:011\n",
      "\u001b[?25hCollecting dash-core-components==2.0.0 (from dash->autoplotter)\n",
      "  Downloading https://files.pythonhosted.org/packages/00/9e/a29f726e84e531a36d56cff187e61d8c96d2cc253c5bcef9a7695acb7e6a/dash_core_components-2.0.0-py3-none-any.whl\n",
      "Collecting dash-html-components==2.0.0 (from dash->autoplotter)\n",
      "  Downloading https://files.pythonhosted.org/packages/75/65/1b16b853844ef59b2742a7de74a598f376ac0ab581f0dcc34db294e5c90e/dash_html_components-2.0.0-py3-none-any.whl\n",
      "Requirement already satisfied: python-dateutil>=2.6.1 in /Users/vincentprudhomme/opt/anaconda3/lib/python3.7/site-packages (from pandas->autoplotter) (2.8.0)\n",
      "Requirement already satisfied: pytz>=2017.2 in /Users/vincentprudhomme/opt/anaconda3/lib/python3.7/site-packages (from pandas->autoplotter) (2019.3)\n",
      "Requirement already satisfied: ipykernel in /Users/vincentprudhomme/opt/anaconda3/lib/python3.7/site-packages (from jupyter-dash->autoplotter) (5.1.2)\n",
      "Requirement already satisfied: retrying in /Users/vincentprudhomme/opt/anaconda3/lib/python3.7/site-packages (from jupyter-dash->autoplotter) (1.3.3)\n",
      "Requirement already satisfied: requests in /Users/vincentprudhomme/opt/anaconda3/lib/python3.7/site-packages (from jupyter-dash->autoplotter) (2.22.0)\n",
      "Requirement already satisfied: ipython in /Users/vincentprudhomme/opt/anaconda3/lib/python3.7/site-packages (from jupyter-dash->autoplotter) (7.8.0)\n",
      "Collecting nest-asyncio (from jupyter-dash->autoplotter)\n",
      "  Downloading https://files.pythonhosted.org/packages/be/1e/a83058de46b40a392bdefcaac44d1d42db4bf8562cb68c95d6bae4b93276/nest_asyncio-1.5.5-py3-none-any.whl\n",
      "Collecting ansi2html (from jupyter-dash->autoplotter)\n",
      "  Downloading https://files.pythonhosted.org/packages/e6/7f/ff656e2c8e83873122cc22d345fb68f82a005f19848b04e53e49361ac547/ansi2html-1.8.0-py3-none-any.whl\n",
      "Collecting brotli (from flask-compress->dash->autoplotter)\n",
      "\u001b[?25l  Downloading https://files.pythonhosted.org/packages/3f/cf/e720979db49a4529d6651a8d31592ce81a901950583ae98759b5369617fa/Brotli-1.0.9-cp37-cp37m-macosx_10_9_x86_64.whl (421kB)\n",
      "\u001b[K     |████████████████████████████████| 430kB 11.6MB/s eta 0:00:01\n",
      "\u001b[?25hRequirement already satisfied: Werkzeug>=0.15 in /Users/vincentprudhomme/opt/anaconda3/lib/python3.7/site-packages (from Flask>=1.0.4->dash->autoplotter) (0.16.0)\n",
      "Requirement already satisfied: itsdangerous>=0.24 in /Users/vincentprudhomme/opt/anaconda3/lib/python3.7/site-packages (from Flask>=1.0.4->dash->autoplotter) (1.1.0)\n",
      "Requirement already satisfied: click>=5.1 in /Users/vincentprudhomme/opt/anaconda3/lib/python3.7/site-packages (from Flask>=1.0.4->dash->autoplotter) (7.0)\n",
      "Requirement already satisfied: Jinja2>=2.10.1 in /Users/vincentprudhomme/opt/anaconda3/lib/python3.7/site-packages (from Flask>=1.0.4->dash->autoplotter) (2.10.3)\n",
      "Collecting tenacity>=6.2.0 (from plotly>=5.0.0->dash->autoplotter)\n",
      "  Using cached https://files.pythonhosted.org/packages/f2/a5/f86bc8d67c979020438c8559cc70cfe3a1643fd160d35e09c9cca6a09189/tenacity-8.0.1-py3-none-any.whl\n",
      "Requirement already satisfied: six>=1.5 in /Users/vincentprudhomme/opt/anaconda3/lib/python3.7/site-packages (from python-dateutil>=2.6.1->pandas->autoplotter) (1.12.0)\n",
      "Requirement already satisfied: jupyter-client in /Users/vincentprudhomme/opt/anaconda3/lib/python3.7/site-packages (from ipykernel->jupyter-dash->autoplotter) (5.3.3)\n",
      "Requirement already satisfied: traitlets>=4.1.0 in /Users/vincentprudhomme/opt/anaconda3/lib/python3.7/site-packages (from ipykernel->jupyter-dash->autoplotter) (4.3.3)\n",
      "Requirement already satisfied: tornado>=4.2 in /Users/vincentprudhomme/opt/anaconda3/lib/python3.7/site-packages (from ipykernel->jupyter-dash->autoplotter) (6.0.3)\n",
      "Requirement already satisfied: idna<2.9,>=2.5 in /Users/vincentprudhomme/opt/anaconda3/lib/python3.7/site-packages (from requests->jupyter-dash->autoplotter) (2.8)\n",
      "Requirement already satisfied: chardet<3.1.0,>=3.0.2 in /Users/vincentprudhomme/opt/anaconda3/lib/python3.7/site-packages (from requests->jupyter-dash->autoplotter) (3.0.4)\n",
      "Requirement already satisfied: urllib3!=1.25.0,!=1.25.1,<1.26,>=1.21.1 in /Users/vincentprudhomme/opt/anaconda3/lib/python3.7/site-packages (from requests->jupyter-dash->autoplotter) (1.24.2)\n",
      "Requirement already satisfied: certifi>=2017.4.17 in /Users/vincentprudhomme/opt/anaconda3/lib/python3.7/site-packages (from requests->jupyter-dash->autoplotter) (2019.9.11)\n",
      "Requirement already satisfied: setuptools>=18.5 in /Users/vincentprudhomme/opt/anaconda3/lib/python3.7/site-packages (from ipython->jupyter-dash->autoplotter) (41.4.0)\n",
      "Requirement already satisfied: backcall in /Users/vincentprudhomme/opt/anaconda3/lib/python3.7/site-packages (from ipython->jupyter-dash->autoplotter) (0.1.0)\n",
      "Requirement already satisfied: decorator in /Users/vincentprudhomme/opt/anaconda3/lib/python3.7/site-packages (from ipython->jupyter-dash->autoplotter) (4.4.0)\n",
      "Requirement already satisfied: prompt-toolkit<2.1.0,>=2.0.0 in /Users/vincentprudhomme/opt/anaconda3/lib/python3.7/site-packages (from ipython->jupyter-dash->autoplotter) (2.0.10)\n",
      "Requirement already satisfied: appnope; sys_platform == \"darwin\" in /Users/vincentprudhomme/opt/anaconda3/lib/python3.7/site-packages (from ipython->jupyter-dash->autoplotter) (0.1.0)\n",
      "Requirement already satisfied: pygments in /Users/vincentprudhomme/opt/anaconda3/lib/python3.7/site-packages (from ipython->jupyter-dash->autoplotter) (2.4.2)\n",
      "Requirement already satisfied: jedi>=0.10 in /Users/vincentprudhomme/opt/anaconda3/lib/python3.7/site-packages (from ipython->jupyter-dash->autoplotter) (0.15.1)\n",
      "Requirement already satisfied: pickleshare in /Users/vincentprudhomme/opt/anaconda3/lib/python3.7/site-packages (from ipython->jupyter-dash->autoplotter) (0.7.5)\n",
      "Requirement already satisfied: pexpect; sys_platform != \"win32\" in /Users/vincentprudhomme/opt/anaconda3/lib/python3.7/site-packages (from ipython->jupyter-dash->autoplotter) (4.7.0)\n",
      "Requirement already satisfied: importlib-metadata; python_version < \"3.8\" in /Users/vincentprudhomme/opt/anaconda3/lib/python3.7/site-packages (from ansi2html->jupyter-dash->autoplotter) (0.23)\n",
      "Requirement already satisfied: MarkupSafe>=0.23 in /Users/vincentprudhomme/opt/anaconda3/lib/python3.7/site-packages (from Jinja2>=2.10.1->Flask>=1.0.4->dash->autoplotter) (1.1.1)\n",
      "Requirement already satisfied: pyzmq>=13 in /Users/vincentprudhomme/opt/anaconda3/lib/python3.7/site-packages (from jupyter-client->ipykernel->jupyter-dash->autoplotter) (18.1.0)\n",
      "Requirement already satisfied: jupyter-core in /Users/vincentprudhomme/opt/anaconda3/lib/python3.7/site-packages (from jupyter-client->ipykernel->jupyter-dash->autoplotter) (4.5.0)\n",
      "Requirement already satisfied: ipython-genutils in /Users/vincentprudhomme/opt/anaconda3/lib/python3.7/site-packages (from traitlets>=4.1.0->ipykernel->jupyter-dash->autoplotter) (0.2.0)\n",
      "Requirement already satisfied: wcwidth in /Users/vincentprudhomme/opt/anaconda3/lib/python3.7/site-packages (from prompt-toolkit<2.1.0,>=2.0.0->ipython->jupyter-dash->autoplotter) (0.1.7)\n",
      "Requirement already satisfied: parso>=0.5.0 in /Users/vincentprudhomme/opt/anaconda3/lib/python3.7/site-packages (from jedi>=0.10->ipython->jupyter-dash->autoplotter) (0.5.1)\n",
      "Requirement already satisfied: ptyprocess>=0.5 in /Users/vincentprudhomme/opt/anaconda3/lib/python3.7/site-packages (from pexpect; sys_platform != \"win32\"->ipython->jupyter-dash->autoplotter) (0.6.0)\n",
      "Requirement already satisfied: zipp>=0.5 in /Users/vincentprudhomme/opt/anaconda3/lib/python3.7/site-packages (from importlib-metadata; python_version < \"3.8\"->ansi2html->jupyter-dash->autoplotter) (0.6.0)\n"
     ]
    },
    {
     "name": "stdout",
     "output_type": "stream",
     "text": [
      "Requirement already satisfied: more-itertools in /Users/vincentprudhomme/opt/anaconda3/lib/python3.7/site-packages (from zipp>=0.5->importlib-metadata; python_version < \"3.8\"->ansi2html->jupyter-dash->autoplotter) (7.2.0)\n",
      "Building wheels for collected packages: autoplotter\n",
      "  Building wheel for autoplotter (setup.py) ... \u001b[?25ldone\n",
      "\u001b[?25h  Created wheel for autoplotter: filename=autoplotter-0.1.0-cp37-none-any.whl size=23006 sha256=c13067ca6299452c7f51fb1572c42c453a2c4cf8fb9494603ef41ad30c6ae2f6\n",
      "  Stored in directory: /Users/vincentprudhomme/Library/Caches/pip/wheels/20/39/4d/0a4aab498efea8a3f866959817b0fd91593ab74c970cbff5fd\n",
      "Successfully built autoplotter\n",
      "Installing collected packages: brotli, flask-compress, tenacity, plotly, dash-core-components, dash-table, dash-html-components, dash, dash-bootstrap-components, nest-asyncio, ansi2html, jupyter-dash, autoplotter\n",
      "  Found existing installation: plotly 4.13.0\n",
      "    Uninstalling plotly-4.13.0:\n",
      "      Successfully uninstalled plotly-4.13.0\n",
      "Successfully installed ansi2html-1.8.0 autoplotter-0.1.0 brotli-1.0.9 dash-2.6.1 dash-bootstrap-components-1.2.1 dash-core-components-2.0.0 dash-html-components-2.0.0 dash-table-5.0.0 flask-compress-1.12 jupyter-dash-0.4.2 nest-asyncio-1.5.5 plotly-5.9.0 tenacity-8.0.1\n",
      "Note: you may need to restart the kernel to use updated packages.\n"
     ]
    }
   ],
   "source": [
    "pip install autoplotter\n"
   ]
  },
  {
   "cell_type": "markdown",
   "metadata": {},
   "source": [
    "## Librairies"
   ]
  },
  {
   "cell_type": "code",
   "execution_count": 5,
   "metadata": {},
   "outputs": [
    {
     "ename": "ModuleNotFoundError",
     "evalue": "No module named 'typing_extensions'",
     "output_type": "error",
     "traceback": [
      "\u001b[0;31m---------------------------------------------------------------------------\u001b[0m",
      "\u001b[0;31mModuleNotFoundError\u001b[0m                       Traceback (most recent call last)",
      "\u001b[0;32m<ipython-input-5-db2bdab8cffa>\u001b[0m in \u001b[0;36m<module>\u001b[0;34m\u001b[0m\n\u001b[0;32m----> 1\u001b[0;31m \u001b[0;32mfrom\u001b[0m \u001b[0mautoplotter\u001b[0m \u001b[0;32mimport\u001b[0m \u001b[0mrun_app\u001b[0m\u001b[0;34m\u001b[0m\u001b[0;34m\u001b[0m\u001b[0m\n\u001b[0m",
      "\u001b[0;32m~/opt/anaconda3/lib/python3.7/site-packages/autoplotter/__init__.py\u001b[0m in \u001b[0;36m<module>\u001b[0;34m\u001b[0m\n\u001b[0;32m----> 1\u001b[0;31m \u001b[0;32mfrom\u001b[0m \u001b[0;34m.\u001b[0m\u001b[0mapp\u001b[0m \u001b[0;32mimport\u001b[0m \u001b[0mrun_app\u001b[0m\u001b[0;34m\u001b[0m\u001b[0;34m\u001b[0m\u001b[0m\n\u001b[0m\u001b[1;32m      2\u001b[0m \u001b[0;34m\u001b[0m\u001b[0m\n\u001b[1;32m      3\u001b[0m \u001b[0m__ALL__\u001b[0m \u001b[0;34m=\u001b[0m \u001b[0;34m[\u001b[0m\u001b[0;34m'run_app'\u001b[0m\u001b[0;34m]\u001b[0m\u001b[0;34m\u001b[0m\u001b[0;34m\u001b[0m\u001b[0m\n",
      "\u001b[0;32m~/opt/anaconda3/lib/python3.7/site-packages/autoplotter/app.py\u001b[0m in \u001b[0;36m<module>\u001b[0;34m\u001b[0m\n\u001b[1;32m      3\u001b[0m \u001b[0;32mimport\u001b[0m \u001b[0mdash_core_components\u001b[0m \u001b[0;32mas\u001b[0m \u001b[0mdcc\u001b[0m\u001b[0;34m\u001b[0m\u001b[0;34m\u001b[0m\u001b[0m\n\u001b[1;32m      4\u001b[0m \u001b[0;32mfrom\u001b[0m \u001b[0;34m.\u001b[0m\u001b[0mside_navbar\u001b[0m \u001b[0;32mimport\u001b[0m \u001b[0m_navbar\u001b[0m\u001b[0;34m\u001b[0m\u001b[0;34m\u001b[0m\u001b[0m\n\u001b[0;32m----> 5\u001b[0;31m \u001b[0;32mfrom\u001b[0m \u001b[0;34m.\u001b[0m\u001b[0mjupyter_dash\u001b[0m \u001b[0;32mimport\u001b[0m \u001b[0mJupyterDash\u001b[0m\u001b[0;34m\u001b[0m\u001b[0;34m\u001b[0m\u001b[0m\n\u001b[0m\u001b[1;32m      6\u001b[0m \u001b[0;32mfrom\u001b[0m \u001b[0;34m.\u001b[0m\u001b[0mstyle_sheet\u001b[0m \u001b[0;32mimport\u001b[0m \u001b[0;34m*\u001b[0m\u001b[0;34m\u001b[0m\u001b[0;34m\u001b[0m\u001b[0m\n\u001b[1;32m      7\u001b[0m \u001b[0;32mfrom\u001b[0m \u001b[0mdash\u001b[0m\u001b[0;34m.\u001b[0m\u001b[0mdependencies\u001b[0m \u001b[0;32mimport\u001b[0m \u001b[0mInput\u001b[0m\u001b[0;34m,\u001b[0m \u001b[0mOutput\u001b[0m\u001b[0;34m,\u001b[0m \u001b[0mState\u001b[0m\u001b[0;34m\u001b[0m\u001b[0;34m\u001b[0m\u001b[0m\n",
      "\u001b[0;32m~/opt/anaconda3/lib/python3.7/site-packages/autoplotter/jupyter_dash/__init__.py\u001b[0m in \u001b[0;36m<module>\u001b[0;34m\u001b[0m\n\u001b[0;32m----> 1\u001b[0;31m \u001b[0;32mfrom\u001b[0m \u001b[0;34m.\u001b[0m\u001b[0mjupyter_app\u001b[0m \u001b[0;32mimport\u001b[0m \u001b[0mJupyterDash\u001b[0m\u001b[0;34m\u001b[0m\u001b[0;34m\u001b[0m\u001b[0m\n\u001b[0m",
      "\u001b[0;32m~/opt/anaconda3/lib/python3.7/site-packages/autoplotter/jupyter_dash/jupyter_app.py\u001b[0m in \u001b[0;36m<module>\u001b[0;34m\u001b[0m\n\u001b[1;32m     15\u001b[0m \u001b[0;32mfrom\u001b[0m \u001b[0mIPython\u001b[0m\u001b[0;34m.\u001b[0m\u001b[0mdisplay\u001b[0m \u001b[0;32mimport\u001b[0m \u001b[0mIFrame\u001b[0m\u001b[0;34m,\u001b[0m \u001b[0mdisplay\u001b[0m\u001b[0;34m\u001b[0m\u001b[0;34m\u001b[0m\u001b[0m\n\u001b[1;32m     16\u001b[0m \u001b[0;32mfrom\u001b[0m \u001b[0mIPython\u001b[0m\u001b[0;34m.\u001b[0m\u001b[0mcore\u001b[0m\u001b[0;34m.\u001b[0m\u001b[0multratb\u001b[0m \u001b[0;32mimport\u001b[0m \u001b[0mFormattedTB\u001b[0m\u001b[0;34m\u001b[0m\u001b[0;34m\u001b[0m\u001b[0m\n\u001b[0;32m---> 17\u001b[0;31m \u001b[0;32mfrom\u001b[0m \u001b[0mansi2html\u001b[0m \u001b[0;32mimport\u001b[0m \u001b[0mAnsi2HTMLConverter\u001b[0m\u001b[0;34m\u001b[0m\u001b[0;34m\u001b[0m\u001b[0m\n\u001b[0m\u001b[1;32m     18\u001b[0m \u001b[0;32mimport\u001b[0m \u001b[0muuid\u001b[0m\u001b[0;34m\u001b[0m\u001b[0;34m\u001b[0m\u001b[0m\n\u001b[1;32m     19\u001b[0m \u001b[0;34m\u001b[0m\u001b[0m\n",
      "\u001b[0;32m~/opt/anaconda3/lib/python3.7/site-packages/ansi2html/__init__.py\u001b[0m in \u001b[0;36m<module>\u001b[0;34m\u001b[0m\n\u001b[0;32m----> 1\u001b[0;31m \u001b[0;32mfrom\u001b[0m \u001b[0mansi2html\u001b[0m\u001b[0;34m.\u001b[0m\u001b[0mconverter\u001b[0m \u001b[0;32mimport\u001b[0m \u001b[0mAnsi2HTMLConverter\u001b[0m\u001b[0;34m\u001b[0m\u001b[0;34m\u001b[0m\u001b[0m\n\u001b[0m\u001b[1;32m      2\u001b[0m \u001b[0;34m\u001b[0m\u001b[0m\n\u001b[1;32m      3\u001b[0m \u001b[0m__all__\u001b[0m \u001b[0;34m=\u001b[0m \u001b[0;34m[\u001b[0m\u001b[0;34m\"Ansi2HTMLConverter\"\u001b[0m\u001b[0;34m]\u001b[0m\u001b[0;34m\u001b[0m\u001b[0;34m\u001b[0m\u001b[0m\n",
      "\u001b[0;32m~/opt/anaconda3/lib/python3.7/site-packages/ansi2html/converter.py\u001b[0m in \u001b[0;36m<module>\u001b[0;34m\u001b[0m\n\u001b[1;32m     43\u001b[0m     \u001b[0;32mfrom\u001b[0m \u001b[0mtyping\u001b[0m \u001b[0;32mimport\u001b[0m \u001b[0mTypedDict\u001b[0m\u001b[0;34m\u001b[0m\u001b[0;34m\u001b[0m\u001b[0m\n\u001b[1;32m     44\u001b[0m \u001b[0;32melse\u001b[0m\u001b[0;34m:\u001b[0m\u001b[0;34m\u001b[0m\u001b[0;34m\u001b[0m\u001b[0m\n\u001b[0;32m---> 45\u001b[0;31m     \u001b[0;32mfrom\u001b[0m \u001b[0mtyping_extensions\u001b[0m \u001b[0;32mimport\u001b[0m \u001b[0mTypedDict\u001b[0m\u001b[0;34m\u001b[0m\u001b[0;34m\u001b[0m\u001b[0m\n\u001b[0m\u001b[1;32m     46\u001b[0m \u001b[0;34m\u001b[0m\u001b[0m\n\u001b[1;32m     47\u001b[0m \u001b[0;34m\u001b[0m\u001b[0m\n",
      "\u001b[0;31mModuleNotFoundError\u001b[0m: No module named 'typing_extensions'"
     ]
    }
   ],
   "source": [
    "from autoplotter import run_app\n",
    "import pandas as pd"
   ]
  },
  {
   "cell_type": "code",
   "execution_count": null,
   "metadata": {},
   "outputs": [],
   "source": []
  }
 ],
 "metadata": {
  "kernelspec": {
   "display_name": "Python 3",
   "language": "python",
   "name": "python3"
  },
  "language_info": {
   "codemirror_mode": {
    "name": "ipython",
    "version": 3
   },
   "file_extension": ".py",
   "mimetype": "text/x-python",
   "name": "python",
   "nbconvert_exporter": "python",
   "pygments_lexer": "ipython3",
   "version": "3.7.4"
  }
 },
 "nbformat": 4,
 "nbformat_minor": 2
}
