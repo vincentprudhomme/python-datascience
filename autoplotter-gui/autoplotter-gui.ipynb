{
  "cells": [
    {
      "cell_type": "markdown",
      "metadata": {
        "pycharm": {}
      },
      "source": [
        "# AutoPlotter: Une analyse de données exploratoire basée sur une interface graphique en Python"
      ]
    },
    {
      "cell_type": "markdown",
      "metadata": {
        "pycharm": {}
      },
      "source": "À propos de AutoPlotter: https://pypi.org/project/autoplotter/\n* The Python Package Index (PyPI) is a repository of software for the Python programming language.\n\nÀ propos de AutoPlotter: https://pypi.org/project/autoplotter/"
    },
    {
      "cell_type": "markdown",
      "metadata": {
        "pycharm": {}
      },
      "source": [
        "## Installation de autoplotter via pip"
      ]
    },
    {
      "cell_type": "code",
      "execution_count": 1,
      "metadata": {
        "pycharm": {}
      },
      "outputs": [
        {
          "name": "stdout",
          "output_type": "stream",
          "text": [
            "Requirement already satisfied: autoplotter in /Users/vincentprudhomme/opt/anaconda3/lib/python3.7/site-packages (0.1.0)\n",
            "Requirement already satisfied: dash in /Users/vincentprudhomme/opt/anaconda3/lib/python3.7/site-packages (from autoplotter) (2.6.1)\n",
            "Requirement already satisfied: dash-table in /Users/vincentprudhomme/opt/anaconda3/lib/python3.7/site-packages (from autoplotter) (5.0.0)\n",
            "Requirement already satisfied: numpy in /Users/vincentprudhomme/opt/anaconda3/lib/python3.7/site-packages (from autoplotter) (1.17.2)\n",
            "Requirement already satisfied: jupyter-dash in /Users/vincentprudhomme/opt/anaconda3/lib/python3.7/site-packages (from autoplotter) (0.4.2)\n",
            "Requirement already satisfied: pandas in /Users/vincentprudhomme/opt/anaconda3/lib/python3.7/site-packages (from autoplotter) (0.25.1)\n",
            "Requirement already satisfied: dash-bootstrap-components in /Users/vincentprudhomme/opt/anaconda3/lib/python3.7/site-packages (from autoplotter) (1.2.1)\n",
            "Requirement already satisfied: Flask\u003e\u003d1.0.4 in /Users/vincentprudhomme/opt/anaconda3/lib/python3.7/site-packages (from dash-\u003eautoplotter) (1.1.1)\n",
            "Requirement already satisfied: dash-html-components\u003d\u003d2.0.0 in /Users/vincentprudhomme/opt/anaconda3/lib/python3.7/site-packages (from dash-\u003eautoplotter) (2.0.0)\n",
            "Requirement already satisfied: dash-core-components\u003d\u003d2.0.0 in /Users/vincentprudhomme/opt/anaconda3/lib/python3.7/site-packages (from dash-\u003eautoplotter) (2.0.0)\n",
            "Requirement already satisfied: flask-compress in /Users/vincentprudhomme/opt/anaconda3/lib/python3.7/site-packages (from dash-\u003eautoplotter) (1.12)\n",
            "Requirement already satisfied: plotly\u003e\u003d5.0.0 in /Users/vincentprudhomme/opt/anaconda3/lib/python3.7/site-packages (from dash-\u003eautoplotter) (5.9.0)\n",
            "Requirement already satisfied: ipython in /Users/vincentprudhomme/opt/anaconda3/lib/python3.7/site-packages (from jupyter-dash-\u003eautoplotter) (7.8.0)\n",
            "Requirement already satisfied: retrying in /Users/vincentprudhomme/opt/anaconda3/lib/python3.7/site-packages (from jupyter-dash-\u003eautoplotter) (1.3.3)\n",
            "Requirement already satisfied: ansi2html in /Users/vincentprudhomme/opt/anaconda3/lib/python3.7/site-packages (from jupyter-dash-\u003eautoplotter) (1.8.0)\n",
            "Requirement already satisfied: nest-asyncio in /Users/vincentprudhomme/opt/anaconda3/lib/python3.7/site-packages (from jupyter-dash-\u003eautoplotter) (1.5.5)\n",
            "Requirement already satisfied: requests in /Users/vincentprudhomme/opt/anaconda3/lib/python3.7/site-packages (from jupyter-dash-\u003eautoplotter) (2.22.0)\n",
            "Requirement already satisfied: ipykernel in /Users/vincentprudhomme/opt/anaconda3/lib/python3.7/site-packages (from jupyter-dash-\u003eautoplotter) (5.1.2)\n",
            "Requirement already satisfied: python-dateutil\u003e\u003d2.6.1 in /Users/vincentprudhomme/opt/anaconda3/lib/python3.7/site-packages (from pandas-\u003eautoplotter) (2.8.0)\n",
            "Requirement already satisfied: pytz\u003e\u003d2017.2 in /Users/vincentprudhomme/opt/anaconda3/lib/python3.7/site-packages (from pandas-\u003eautoplotter) (2019.3)\n",
            "Requirement already satisfied: click\u003e\u003d5.1 in /Users/vincentprudhomme/opt/anaconda3/lib/python3.7/site-packages (from Flask\u003e\u003d1.0.4-\u003edash-\u003eautoplotter) (7.0)\n",
            "Requirement already satisfied: Jinja2\u003e\u003d2.10.1 in /Users/vincentprudhomme/opt/anaconda3/lib/python3.7/site-packages (from Flask\u003e\u003d1.0.4-\u003edash-\u003eautoplotter) (2.10.3)\n",
            "Requirement already satisfied: itsdangerous\u003e\u003d0.24 in /Users/vincentprudhomme/opt/anaconda3/lib/python3.7/site-packages (from Flask\u003e\u003d1.0.4-\u003edash-\u003eautoplotter) (1.1.0)\n",
            "Requirement already satisfied: Werkzeug\u003e\u003d0.15 in /Users/vincentprudhomme/opt/anaconda3/lib/python3.7/site-packages (from Flask\u003e\u003d1.0.4-\u003edash-\u003eautoplotter) (0.16.0)\n",
            "Requirement already satisfied: brotli in /Users/vincentprudhomme/opt/anaconda3/lib/python3.7/site-packages (from flask-compress-\u003edash-\u003eautoplotter) (1.0.9)\n",
            "Requirement already satisfied: tenacity\u003e\u003d6.2.0 in /Users/vincentprudhomme/opt/anaconda3/lib/python3.7/site-packages (from plotly\u003e\u003d5.0.0-\u003edash-\u003eautoplotter) (8.0.1)\n",
            "Requirement already satisfied: decorator in /Users/vincentprudhomme/opt/anaconda3/lib/python3.7/site-packages (from ipython-\u003ejupyter-dash-\u003eautoplotter) (4.4.0)\n",
            "Requirement already satisfied: pickleshare in /Users/vincentprudhomme/opt/anaconda3/lib/python3.7/site-packages (from ipython-\u003ejupyter-dash-\u003eautoplotter) (0.7.5)\n",
            "Requirement already satisfied: prompt-toolkit\u003c2.1.0,\u003e\u003d2.0.0 in /Users/vincentprudhomme/opt/anaconda3/lib/python3.7/site-packages (from ipython-\u003ejupyter-dash-\u003eautoplotter) (2.0.10)\n",
            "Requirement already satisfied: backcall in /Users/vincentprudhomme/opt/anaconda3/lib/python3.7/site-packages (from ipython-\u003ejupyter-dash-\u003eautoplotter) (0.1.0)\n",
            "Requirement already satisfied: pexpect; sys_platform !\u003d \"win32\" in /Users/vincentprudhomme/opt/anaconda3/lib/python3.7/site-packages (from ipython-\u003ejupyter-dash-\u003eautoplotter) (4.7.0)\n",
            "Requirement already satisfied: traitlets\u003e\u003d4.2 in /Users/vincentprudhomme/opt/anaconda3/lib/python3.7/site-packages (from ipython-\u003ejupyter-dash-\u003eautoplotter) (4.3.3)\n",
            "Requirement already satisfied: pygments in /Users/vincentprudhomme/opt/anaconda3/lib/python3.7/site-packages (from ipython-\u003ejupyter-dash-\u003eautoplotter) (2.4.2)\n",
            "Requirement already satisfied: appnope; sys_platform \u003d\u003d \"darwin\" in /Users/vincentprudhomme/opt/anaconda3/lib/python3.7/site-packages (from ipython-\u003ejupyter-dash-\u003eautoplotter) (0.1.0)\n",
            "Requirement already satisfied: jedi\u003e\u003d0.10 in /Users/vincentprudhomme/opt/anaconda3/lib/python3.7/site-packages (from ipython-\u003ejupyter-dash-\u003eautoplotter) (0.15.1)\n",
            "Requirement already satisfied: setuptools\u003e\u003d18.5 in /Users/vincentprudhomme/opt/anaconda3/lib/python3.7/site-packages (from ipython-\u003ejupyter-dash-\u003eautoplotter) (41.4.0)\n",
            "Requirement already satisfied: six\u003e\u003d1.7.0 in /Users/vincentprudhomme/opt/anaconda3/lib/python3.7/site-packages (from retrying-\u003ejupyter-dash-\u003eautoplotter) (1.12.0)\n",
            "Requirement already satisfied: importlib-metadata; python_version \u003c \"3.8\" in /Users/vincentprudhomme/opt/anaconda3/lib/python3.7/site-packages (from ansi2html-\u003ejupyter-dash-\u003eautoplotter) (0.23)\n",
            "Requirement already satisfied: certifi\u003e\u003d2017.4.17 in /Users/vincentprudhomme/opt/anaconda3/lib/python3.7/site-packages (from requests-\u003ejupyter-dash-\u003eautoplotter) (2019.9.11)\n",
            "Requirement already satisfied: chardet\u003c3.1.0,\u003e\u003d3.0.2 in /Users/vincentprudhomme/opt/anaconda3/lib/python3.7/site-packages (from requests-\u003ejupyter-dash-\u003eautoplotter) (3.0.4)\n",
            "Requirement already satisfied: idna\u003c2.9,\u003e\u003d2.5 in /Users/vincentprudhomme/opt/anaconda3/lib/python3.7/site-packages (from requests-\u003ejupyter-dash-\u003eautoplotter) (2.8)\n",
            "Requirement already satisfied: urllib3!\u003d1.25.0,!\u003d1.25.1,\u003c1.26,\u003e\u003d1.21.1 in /Users/vincentprudhomme/opt/anaconda3/lib/python3.7/site-packages (from requests-\u003ejupyter-dash-\u003eautoplotter) (1.24.2)\n",
            "Requirement already satisfied: jupyter-client in /Users/vincentprudhomme/opt/anaconda3/lib/python3.7/site-packages (from ipykernel-\u003ejupyter-dash-\u003eautoplotter) (5.3.3)\n",
            "Requirement already satisfied: tornado\u003e\u003d4.2 in /Users/vincentprudhomme/opt/anaconda3/lib/python3.7/site-packages (from ipykernel-\u003ejupyter-dash-\u003eautoplotter) (6.0.3)\n",
            "Requirement already satisfied: MarkupSafe\u003e\u003d0.23 in /Users/vincentprudhomme/opt/anaconda3/lib/python3.7/site-packages (from Jinja2\u003e\u003d2.10.1-\u003eFlask\u003e\u003d1.0.4-\u003edash-\u003eautoplotter) (1.1.1)\n",
            "Requirement already satisfied: wcwidth in /Users/vincentprudhomme/opt/anaconda3/lib/python3.7/site-packages (from prompt-toolkit\u003c2.1.0,\u003e\u003d2.0.0-\u003eipython-\u003ejupyter-dash-\u003eautoplotter) (0.1.7)\n",
            "Requirement already satisfied: ptyprocess\u003e\u003d0.5 in /Users/vincentprudhomme/opt/anaconda3/lib/python3.7/site-packages (from pexpect; sys_platform !\u003d \"win32\"-\u003eipython-\u003ejupyter-dash-\u003eautoplotter) (0.6.0)\n",
            "Requirement already satisfied: ipython-genutils in /Users/vincentprudhomme/opt/anaconda3/lib/python3.7/site-packages (from traitlets\u003e\u003d4.2-\u003eipython-\u003ejupyter-dash-\u003eautoplotter) (0.2.0)\n",
            "Requirement already satisfied: parso\u003e\u003d0.5.0 in /Users/vincentprudhomme/opt/anaconda3/lib/python3.7/site-packages (from jedi\u003e\u003d0.10-\u003eipython-\u003ejupyter-dash-\u003eautoplotter) (0.5.1)\n",
            "Requirement already satisfied: zipp\u003e\u003d0.5 in /Users/vincentprudhomme/opt/anaconda3/lib/python3.7/site-packages (from importlib-metadata; python_version \u003c \"3.8\"-\u003eansi2html-\u003ejupyter-dash-\u003eautoplotter) (0.6.0)\n",
            "Requirement already satisfied: pyzmq\u003e\u003d13 in /Users/vincentprudhomme/opt/anaconda3/lib/python3.7/site-packages (from jupyter-client-\u003eipykernel-\u003ejupyter-dash-\u003eautoplotter) (18.1.0)\n",
            "Requirement already satisfied: jupyter-core in /Users/vincentprudhomme/opt/anaconda3/lib/python3.7/site-packages (from jupyter-client-\u003eipykernel-\u003ejupyter-dash-\u003eautoplotter) (4.5.0)\n",
            "Requirement already satisfied: more-itertools in /Users/vincentprudhomme/opt/anaconda3/lib/python3.7/site-packages (from zipp\u003e\u003d0.5-\u003eimportlib-metadata; python_version \u003c \"3.8\"-\u003eansi2html-\u003ejupyter-dash-\u003eautoplotter) (7.2.0)\n"
          ]
        },
        {
          "name": "stdout",
          "output_type": "stream",
          "text": [
            "Note: you may need to restart the kernel to use updated packages.\n"
          ]
        }
      ],
      "source": [
        "pip install autoplotter\n"
      ]
    },
    {
      "cell_type": "markdown",
      "metadata": {
        "pycharm": {}
      },
      "source": [
        "## Librairie autoplotter"
      ]
    },
    {
      "cell_type": "code",
      "execution_count": 1,
      "metadata": {
        "pycharm": {}
      },
      "outputs": [
        {
          "name": "stderr",
          "output_type": "stream",
          "text": [
            "/Users/vincentprudhomme/opt/anaconda3/lib/python3.7/site-packages/autoplotter/app.py:2: UserWarning: \n",
            "The dash_html_components package is deprecated. Please replace\n",
            "`import dash_html_components as html` with `from dash import html`\n",
            "  import dash_html_components as  html\n",
            "/Users/vincentprudhomme/opt/anaconda3/lib/python3.7/site-packages/autoplotter/app.py:3: UserWarning: \n",
            "The dash_core_components package is deprecated. Please replace\n",
            "`import dash_core_components as dcc` with `from dash import dcc`\n",
            "  import dash_core_components as dcc\n"
          ]
        },
        {
          "ename": "ModuleNotFoundError",
          "evalue": "No module named \u0027typing_extensions\u0027",
          "output_type": "error",
          "traceback": [
            "\u001b[0;31m---------------------------------------------------------------------------\u001b[0m",
            "\u001b[0;31mModuleNotFoundError\u001b[0m                       Traceback (most recent call last)",
            "\u001b[0;32m\u003cipython-input-1-db2bdab8cffa\u003e\u001b[0m in \u001b[0;36m\u003cmodule\u003e\u001b[0;34m\u001b[0m\n\u001b[0;32m----\u003e 1\u001b[0;31m \u001b[0;32mfrom\u001b[0m \u001b[0mautoplotter\u001b[0m \u001b[0;32mimport\u001b[0m \u001b[0mrun_app\u001b[0m\u001b[0;34m\u001b[0m\u001b[0;34m\u001b[0m\u001b[0m\n\u001b[0m",
            "\u001b[0;32m~/opt/anaconda3/lib/python3.7/site-packages/autoplotter/__init__.py\u001b[0m in \u001b[0;36m\u003cmodule\u003e\u001b[0;34m\u001b[0m\n\u001b[0;32m----\u003e 1\u001b[0;31m \u001b[0;32mfrom\u001b[0m \u001b[0;34m.\u001b[0m\u001b[0mapp\u001b[0m \u001b[0;32mimport\u001b[0m \u001b[0mrun_app\u001b[0m\u001b[0;34m\u001b[0m\u001b[0;34m\u001b[0m\u001b[0m\n\u001b[0m\u001b[1;32m      2\u001b[0m \u001b[0;34m\u001b[0m\u001b[0m\n\u001b[1;32m      3\u001b[0m \u001b[0m__ALL__\u001b[0m \u001b[0;34m\u003d\u001b[0m \u001b[0;34m[\u001b[0m\u001b[0;34m\u0027run_app\u0027\u001b[0m\u001b[0;34m]\u001b[0m\u001b[0;34m\u001b[0m\u001b[0;34m\u001b[0m\u001b[0m\n",
            "\u001b[0;32m~/opt/anaconda3/lib/python3.7/site-packages/autoplotter/app.py\u001b[0m in \u001b[0;36m\u003cmodule\u003e\u001b[0;34m\u001b[0m\n\u001b[1;32m      3\u001b[0m \u001b[0;32mimport\u001b[0m \u001b[0mdash_core_components\u001b[0m \u001b[0;32mas\u001b[0m \u001b[0mdcc\u001b[0m\u001b[0;34m\u001b[0m\u001b[0;34m\u001b[0m\u001b[0m\n\u001b[1;32m      4\u001b[0m \u001b[0;32mfrom\u001b[0m \u001b[0;34m.\u001b[0m\u001b[0mside_navbar\u001b[0m \u001b[0;32mimport\u001b[0m \u001b[0m_navbar\u001b[0m\u001b[0;34m\u001b[0m\u001b[0;34m\u001b[0m\u001b[0m\n\u001b[0;32m----\u003e 5\u001b[0;31m \u001b[0;32mfrom\u001b[0m \u001b[0;34m.\u001b[0m\u001b[0mjupyter_dash\u001b[0m \u001b[0;32mimport\u001b[0m \u001b[0mJupyterDash\u001b[0m\u001b[0;34m\u001b[0m\u001b[0;34m\u001b[0m\u001b[0m\n\u001b[0m\u001b[1;32m      6\u001b[0m \u001b[0;32mfrom\u001b[0m \u001b[0;34m.\u001b[0m\u001b[0mstyle_sheet\u001b[0m \u001b[0;32mimport\u001b[0m \u001b[0;34m*\u001b[0m\u001b[0;34m\u001b[0m\u001b[0;34m\u001b[0m\u001b[0m\n\u001b[1;32m      7\u001b[0m \u001b[0;32mfrom\u001b[0m \u001b[0mdash\u001b[0m\u001b[0;34m.\u001b[0m\u001b[0mdependencies\u001b[0m \u001b[0;32mimport\u001b[0m \u001b[0mInput\u001b[0m\u001b[0;34m,\u001b[0m \u001b[0mOutput\u001b[0m\u001b[0;34m,\u001b[0m \u001b[0mState\u001b[0m\u001b[0;34m\u001b[0m\u001b[0;34m\u001b[0m\u001b[0m\n",
            "\u001b[0;32m~/opt/anaconda3/lib/python3.7/site-packages/autoplotter/jupyter_dash/__init__.py\u001b[0m in \u001b[0;36m\u003cmodule\u003e\u001b[0;34m\u001b[0m\n\u001b[0;32m----\u003e 1\u001b[0;31m \u001b[0;32mfrom\u001b[0m \u001b[0;34m.\u001b[0m\u001b[0mjupyter_app\u001b[0m \u001b[0;32mimport\u001b[0m \u001b[0mJupyterDash\u001b[0m\u001b[0;34m\u001b[0m\u001b[0;34m\u001b[0m\u001b[0m\n\u001b[0m",
            "\u001b[0;32m~/opt/anaconda3/lib/python3.7/site-packages/autoplotter/jupyter_dash/jupyter_app.py\u001b[0m in \u001b[0;36m\u003cmodule\u003e\u001b[0;34m\u001b[0m\n\u001b[1;32m     15\u001b[0m \u001b[0;32mfrom\u001b[0m \u001b[0mIPython\u001b[0m\u001b[0;34m.\u001b[0m\u001b[0mdisplay\u001b[0m \u001b[0;32mimport\u001b[0m \u001b[0mIFrame\u001b[0m\u001b[0;34m,\u001b[0m \u001b[0mdisplay\u001b[0m\u001b[0;34m\u001b[0m\u001b[0;34m\u001b[0m\u001b[0m\n\u001b[1;32m     16\u001b[0m \u001b[0;32mfrom\u001b[0m \u001b[0mIPython\u001b[0m\u001b[0;34m.\u001b[0m\u001b[0mcore\u001b[0m\u001b[0;34m.\u001b[0m\u001b[0multratb\u001b[0m \u001b[0;32mimport\u001b[0m \u001b[0mFormattedTB\u001b[0m\u001b[0;34m\u001b[0m\u001b[0;34m\u001b[0m\u001b[0m\n\u001b[0;32m---\u003e 17\u001b[0;31m \u001b[0;32mfrom\u001b[0m \u001b[0mansi2html\u001b[0m \u001b[0;32mimport\u001b[0m \u001b[0mAnsi2HTMLConverter\u001b[0m\u001b[0;34m\u001b[0m\u001b[0;34m\u001b[0m\u001b[0m\n\u001b[0m\u001b[1;32m     18\u001b[0m \u001b[0;32mimport\u001b[0m \u001b[0muuid\u001b[0m\u001b[0;34m\u001b[0m\u001b[0;34m\u001b[0m\u001b[0m\n\u001b[1;32m     19\u001b[0m \u001b[0;34m\u001b[0m\u001b[0m\n",
            "\u001b[0;32m~/opt/anaconda3/lib/python3.7/site-packages/ansi2html/__init__.py\u001b[0m in \u001b[0;36m\u003cmodule\u003e\u001b[0;34m\u001b[0m\n\u001b[0;32m----\u003e 1\u001b[0;31m \u001b[0;32mfrom\u001b[0m \u001b[0mansi2html\u001b[0m\u001b[0;34m.\u001b[0m\u001b[0mconverter\u001b[0m \u001b[0;32mimport\u001b[0m \u001b[0mAnsi2HTMLConverter\u001b[0m\u001b[0;34m\u001b[0m\u001b[0;34m\u001b[0m\u001b[0m\n\u001b[0m\u001b[1;32m      2\u001b[0m \u001b[0;34m\u001b[0m\u001b[0m\n\u001b[1;32m      3\u001b[0m \u001b[0m__all__\u001b[0m \u001b[0;34m\u003d\u001b[0m \u001b[0;34m[\u001b[0m\u001b[0;34m\"Ansi2HTMLConverter\"\u001b[0m\u001b[0;34m]\u001b[0m\u001b[0;34m\u001b[0m\u001b[0;34m\u001b[0m\u001b[0m\n",
            "\u001b[0;32m~/opt/anaconda3/lib/python3.7/site-packages/ansi2html/converter.py\u001b[0m in \u001b[0;36m\u003cmodule\u003e\u001b[0;34m\u001b[0m\n\u001b[1;32m     43\u001b[0m     \u001b[0;32mfrom\u001b[0m \u001b[0mtyping\u001b[0m \u001b[0;32mimport\u001b[0m \u001b[0mTypedDict\u001b[0m\u001b[0;34m\u001b[0m\u001b[0;34m\u001b[0m\u001b[0m\n\u001b[1;32m     44\u001b[0m \u001b[0;32melse\u001b[0m\u001b[0;34m:\u001b[0m\u001b[0;34m\u001b[0m\u001b[0;34m\u001b[0m\u001b[0m\n\u001b[0;32m---\u003e 45\u001b[0;31m     \u001b[0;32mfrom\u001b[0m \u001b[0mtyping_extensions\u001b[0m \u001b[0;32mimport\u001b[0m \u001b[0mTypedDict\u001b[0m\u001b[0;34m\u001b[0m\u001b[0;34m\u001b[0m\u001b[0m\n\u001b[0m\u001b[1;32m     46\u001b[0m \u001b[0;34m\u001b[0m\u001b[0m\n\u001b[1;32m     47\u001b[0m \u001b[0;34m\u001b[0m\u001b[0m\n",
            "\u001b[0;31mModuleNotFoundError\u001b[0m: No module named \u0027typing_extensions\u0027"
          ]
        }
      ],
      "source": [
        "from autoplotter import run_app"
      ]
    },
    {
      "cell_type": "markdown",
      "metadata": {
        "pycharm": {}
      },
      "source": [
        "## Data"
      ]
    },
    {
      "cell_type": "code",
      "execution_count": null,
      "metadata": {
        "pycharm": {}
      },
      "outputs": [],
      "source": [
        "import pandas as pd #Importing Pandas to read csv\n",
        "df \u003d pd.read_csv(\u0027https://raw.githubusercontent.com/dataprofessor/data/master/nba-player-stats-2019.csv\u0027)\n"
      ]
    },
    {
      "cell_type": "code",
      "execution_count": null,
      "metadata": {
        "pycharm": {}
      },
      "outputs": [],
      "source": [
        "df"
      ]
    },
    {
      "cell_type": "markdown",
      "metadata": {
        "pycharm": {}
      },
      "source": [
        "## Run App: Autoplotter"
      ]
    },
    {
      "cell_type": "code",
      "execution_count": null,
      "metadata": {
        "pycharm": {}
      },
      "outputs": [],
      "source": [
        "run_app(df,mode\u003d\u0027external\u0027)"
      ]
    },
    {
      "cell_type": "code",
      "execution_count": null,
      "metadata": {
        "pycharm": {}
      },
      "outputs": [],
      "source": []
    }
  ],
  "metadata": {
    "kernelspec": {
      "display_name": "Python 3",
      "language": "python",
      "name": "python3"
    },
    "language_info": {
      "codemirror_mode": {
        "name": "ipython",
        "version": 3
      },
      "file_extension": ".py",
      "mimetype": "text/x-python",
      "name": "python",
      "nbconvert_exporter": "python",
      "pygments_lexer": "ipython3",
      "version": "3.7.4"
    }
  },
  "nbformat": 4,
  "nbformat_minor": 2
}