{
 "cells": [
  {
   "cell_type": "markdown",
   "id": "9ccd786a",
   "metadata": {},
   "source": [
    "# Python Data Science Handbook"
   ]
  },
  {
   "cell_type": "code",
   "execution_count": 208,
   "id": "18b6f390",
   "metadata": {},
   "outputs": [
    {
     "name": "stdout",
     "output_type": "stream",
     "text": [
      "/Users/vincentprudhomme/OneDrive - ETS/2021/Python\n"
     ]
    }
   ],
   "source": [
    "#Import librairies and packages\n",
    "import pandas as pd\n",
    "import numpy as np\n",
    "import textwrap\n",
    "#import pyodbc #pyodbc is not available in IPython\n",
    "import os\n",
    "import sys\n",
    "from timeit import default_timer as timer\n",
    "import scipy\n",
    "import matplotlib.pyplot as plt\n",
    "import matplotlib.mlab as mlab\n",
    "import matplotlib\n",
    "import sklearn\n",
    "#import seaborn as sns #seaborn is not available in IPython\n",
    "#import bokeh as bok #bokeh is not available in IPython\n",
    "from math import pi\n",
    "import scipy\n",
    "from scipy import special\n",
    "import math\n",
    "plt.style.use('ggplot')\n",
    "from matplotlib.pyplot import figure\n",
    "print(os.getcwd()) # Display project rep"
   ]
  },
  {
   "cell_type": "markdown",
   "id": "a02ea4c2",
   "metadata": {},
   "source": [
    "# Chapter 2: Introduction to NumPy"
   ]
  },
  {
   "cell_type": "code",
   "execution_count": 60,
   "id": "1b099a36",
   "metadata": {},
   "outputs": [
    {
     "name": "stdout",
     "output_type": "stream",
     "text": [
      "[0, 1, 2, 3, 4, 5, 6, 7, 8, 9]\n"
     ]
    }
   ],
   "source": [
    "L = list(range(10))\n",
    "print(L)"
   ]
  },
  {
   "cell_type": "code",
   "execution_count": 61,
   "id": "04cdedad",
   "metadata": {},
   "outputs": [
    {
     "data": {
      "text/plain": [
       "list"
      ]
     },
     "execution_count": 61,
     "metadata": {},
     "output_type": "execute_result"
    }
   ],
   "source": [
    "type(L) #display the type of L - L is a list i.e. a container that hold many Python objects like... integers or strings"
   ]
  },
  {
   "cell_type": "code",
   "execution_count": 62,
   "id": "7ef38442",
   "metadata": {},
   "outputs": [
    {
     "data": {
      "text/plain": [
       "int"
      ]
     },
     "execution_count": 62,
     "metadata": {},
     "output_type": "execute_result"
    }
   ],
   "source": [
    "type(L[0]) #display the type of the object 0 in the list L "
   ]
  },
  {
   "cell_type": "code",
   "execution_count": 63,
   "id": "e468dcb6",
   "metadata": {},
   "outputs": [
    {
     "name": "stdout",
     "output_type": "stream",
     "text": [
      "['0', '1', '2', '3', '4', '5', '6', '7', '8', '9']\n"
     ]
    }
   ],
   "source": [
    "#for similary, a list of strings (in this case the numbers are set as strings)\n",
    "L2 = [str(c) for c in L]\n",
    "print(L2)"
   ]
  },
  {
   "cell_type": "code",
   "execution_count": 64,
   "id": "8b263f55",
   "metadata": {},
   "outputs": [
    {
     "data": {
      "text/plain": [
       "str"
      ]
     },
     "execution_count": 64,
     "metadata": {},
     "output_type": "execute_result"
    }
   ],
   "source": [
    "type(L2[0]) #return the type of the object at position 0 (range is 0 to 10)"
   ]
  },
  {
   "cell_type": "code",
   "execution_count": 65,
   "id": "2bc5095d",
   "metadata": {},
   "outputs": [],
   "source": [
    "#because of python's dynamic typing, we can even create heterogenous list i.e with string and int or bool.\n",
    "L3 = [True, '2', 3.0, 4]"
   ]
  },
  {
   "cell_type": "code",
   "execution_count": 66,
   "id": "675658c8",
   "metadata": {},
   "outputs": [
    {
     "data": {
      "text/plain": [
       "[bool, str, float, int]"
      ]
     },
     "execution_count": 66,
     "metadata": {},
     "output_type": "execute_result"
    }
   ],
   "source": [
    "[type(item) for item in L3] #return the list of types for each items in the list L3\n",
    "# every item in a list is Python object"
   ]
  },
  {
   "cell_type": "code",
   "execution_count": 67,
   "id": "e4f1f5e9",
   "metadata": {},
   "outputs": [
    {
     "data": {
      "text/plain": [
       "array('i', [0, 1, 2, 3, 4, 5, 6, 7, 8, 9])"
      ]
     },
     "execution_count": 67,
     "metadata": {},
     "output_type": "execute_result"
    }
   ],
   "source": [
    "import array \n",
    "L = list(range(10))\n",
    "A = array.array('i', L)\n",
    "A\n",
    "#here 'i' is a type code indicating the contents are integers"
   ]
  },
  {
   "cell_type": "code",
   "execution_count": 68,
   "id": "adf82052",
   "metadata": {},
   "outputs": [
    {
     "name": "stdout",
     "output_type": "stream",
     "text": [
      "['Ford', 'Volvo', 'BMW']\n"
     ]
    }
   ],
   "source": [
    "#Python arrays - Arrays are used to store multiple values in one single variable.\n",
    "#this is a 1D array i.e only 1 row\n",
    "cars = ['Ford','Volvo','BMW']\n",
    "print(cars)"
   ]
  },
  {
   "cell_type": "code",
   "execution_count": 69,
   "id": "aeeef9d6",
   "metadata": {},
   "outputs": [
    {
     "data": {
      "text/plain": [
       "3"
      ]
     },
     "execution_count": 69,
     "metadata": {},
     "output_type": "execute_result"
    }
   ],
   "source": [
    "len(cars) #return the lengh of the array - There's 3 objects"
   ]
  },
  {
   "cell_type": "code",
   "execution_count": 70,
   "id": "ae9c9d5e",
   "metadata": {},
   "outputs": [],
   "source": [
    "#Add and element to the car list - array\n",
    "cars.append('Toyota')"
   ]
  },
  {
   "cell_type": "code",
   "execution_count": 71,
   "id": "38438b3b",
   "metadata": {},
   "outputs": [
    {
     "data": {
      "text/plain": [
       "4"
      ]
     },
     "execution_count": 71,
     "metadata": {},
     "output_type": "execute_result"
    }
   ],
   "source": [
    "len(cars)"
   ]
  },
  {
   "cell_type": "code",
   "execution_count": 72,
   "id": "ca2ad488",
   "metadata": {},
   "outputs": [
    {
     "name": "stdout",
     "output_type": "stream",
     "text": [
      "Ford\n"
     ]
    }
   ],
   "source": [
    "#Get the value of the first array item - Array indexing: accessing single elements\n",
    "x = cars[0]\n",
    "print(x)"
   ]
  },
  {
   "cell_type": "code",
   "execution_count": 73,
   "id": "cb4af385",
   "metadata": {},
   "outputs": [
    {
     "data": {
      "text/plain": [
       "'Toyota'"
      ]
     },
     "execution_count": 73,
     "metadata": {},
     "output_type": "execute_result"
    }
   ],
   "source": [
    "#To index the end of the array, you can use negative indices - Toyota is the last object of the list\n",
    "cars[-1]"
   ]
  },
  {
   "cell_type": "code",
   "execution_count": 74,
   "id": "7bba53d4",
   "metadata": {},
   "outputs": [
    {
     "name": "stdout",
     "output_type": "stream",
     "text": [
      "[1. 2. 3. 4.]\n"
     ]
    }
   ],
   "source": [
    "x4 = np.array([1,2,3,4], dtype='float32')\n",
    "print(x4)"
   ]
  },
  {
   "cell_type": "code",
   "execution_count": 75,
   "id": "a4588022",
   "metadata": {},
   "outputs": [
    {
     "name": "stdout",
     "output_type": "stream",
     "text": [
      "[[ 2.  3.  4.  5.  6.]\n",
      " [ 4.  5.  6.  7.  8.]\n",
      " [ 6.  7.  8.  9. 10.]]\n"
     ]
    }
   ],
   "source": [
    "x5 = np.array([range(i, i + 5) for i in [2, 4, 6]], dtype='float32')\n",
    "print(x5)"
   ]
  },
  {
   "cell_type": "code",
   "execution_count": 76,
   "id": "fe97116f",
   "metadata": {},
   "outputs": [
    {
     "name": "stdout",
     "output_type": "stream",
     "text": [
      "[[ 2.      3.1416  4.      5.      6.    ]\n",
      " [ 4.      5.      6.      7.      8.    ]\n",
      " [ 6.      7.      8.      9.     10.    ]]\n"
     ]
    }
   ],
   "source": [
    "x5[0,1] = 3.1416\n",
    "print(x5)"
   ]
  },
  {
   "cell_type": "code",
   "execution_count": 77,
   "id": "eea92449",
   "metadata": {},
   "outputs": [
    {
     "data": {
      "text/plain": [
       "array([[3.14, 3.14, 3.14, 3.14, 3.14],\n",
       "       [3.14, 3.14, 3.14, 3.14, 3.14],\n",
       "       [3.14, 3.14, 3.14, 3.14, 3.14]])"
      ]
     },
     "execution_count": 77,
     "metadata": {},
     "output_type": "execute_result"
    }
   ],
   "source": [
    "# Create a 3x5 array filled with 3.14 \n",
    "# np.ones - full of ones\n",
    "# np.zeros - full of zeros\n",
    "# np.aranges - # Create an array filled with a linear sequence. Starting at 0, ending at 20, stepping by 2 np.arange(0, 20, 2) \n",
    "# nplinspace - Create an array of five values evenly spaced between 0 and 1 np.linspace(0, 1, 5)\n",
    "np.full((3, 5), 3.14)"
   ]
  },
  {
   "cell_type": "code",
   "execution_count": 78,
   "id": "de018bfd",
   "metadata": {},
   "outputs": [
    {
     "data": {
      "text/plain": [
       "array([[0.60846394, 0.7179427 , 0.43036406],\n",
       "       [0.25241011, 0.97572458, 0.1197632 ],\n",
       "       [0.20856888, 0.23983126, 0.39034023]])"
      ]
     },
     "execution_count": 78,
     "metadata": {},
     "output_type": "execute_result"
    }
   ],
   "source": [
    "# Create a 3x3 array of uniformly distributed # random values between 0 and 1\n",
    "np.random.random((3, 3))"
   ]
  },
  {
   "cell_type": "code",
   "execution_count": 79,
   "id": "ec38ac29",
   "metadata": {},
   "outputs": [
    {
     "data": {
      "text/plain": [
       "array([[ 1.01044915,  0.31737152, -1.30840814],\n",
       "       [-0.97496232,  1.57774258, -0.87026069],\n",
       "       [ 0.91052841,  1.36337822,  0.03155953]])"
      ]
     },
     "execution_count": 79,
     "metadata": {},
     "output_type": "execute_result"
    }
   ],
   "source": [
    "# Create a 3x3 array of normally distributed random values # with mean 0 and standard deviation 1\n",
    "np.random.normal(0,1, (3, 3))\n"
   ]
  },
  {
   "cell_type": "code",
   "execution_count": 80,
   "id": "0a1e41ad",
   "metadata": {},
   "outputs": [],
   "source": [
    "import numpy as np\n",
    "np.random.seed(0) #seed for reproducibility\n",
    "#define variable \n",
    "x1 = np.random.randint(10, size=6) #ouput is a one-dimension 1D array with 6 objects and the int var are rand between 0 to 10\n",
    "x2 = np.random.randint(10, size=(3,4)) #output is a two-dimension 2D array i.e a 3x4 matrix  and the int var are and between 0 to 10\n",
    "x3 = np.random.randint(10, size=(3,4,5)) #output is tree-dimension 3D array"
   ]
  },
  {
   "cell_type": "code",
   "execution_count": 81,
   "id": "68ee5a51",
   "metadata": {},
   "outputs": [
    {
     "data": {
      "text/plain": [
       "array([5, 0, 3, 3, 7, 9])"
      ]
     },
     "execution_count": 81,
     "metadata": {},
     "output_type": "execute_result"
    }
   ],
   "source": [
    "x1"
   ]
  },
  {
   "cell_type": "code",
   "execution_count": 82,
   "id": "f49c65d3",
   "metadata": {},
   "outputs": [
    {
     "data": {
      "text/plain": [
       "5"
      ]
     },
     "execution_count": 82,
     "metadata": {},
     "output_type": "execute_result"
    }
   ],
   "source": [
    "x1[0]"
   ]
  },
  {
   "cell_type": "code",
   "execution_count": 83,
   "id": "60f40520",
   "metadata": {},
   "outputs": [
    {
     "data": {
      "text/plain": [
       "array([[3, 5, 2, 4],\n",
       "       [7, 6, 8, 8],\n",
       "       [1, 6, 7, 7]])"
      ]
     },
     "execution_count": 83,
     "metadata": {},
     "output_type": "execute_result"
    }
   ],
   "source": [
    "#In a multidimensional array, you access items using a comma-separated tuple of indices\n",
    "x2"
   ]
  },
  {
   "cell_type": "code",
   "execution_count": 84,
   "id": "a56fa0d5",
   "metadata": {},
   "outputs": [
    {
     "data": {
      "text/plain": [
       "3"
      ]
     },
     "execution_count": 84,
     "metadata": {},
     "output_type": "execute_result"
    }
   ],
   "source": [
    "x2[0,0]"
   ]
  },
  {
   "cell_type": "code",
   "execution_count": 85,
   "id": "58323a8c",
   "metadata": {},
   "outputs": [],
   "source": [
    "x2[0,0] = 12 #modify the value of this index"
   ]
  },
  {
   "cell_type": "code",
   "execution_count": 86,
   "id": "76a3c370",
   "metadata": {},
   "outputs": [
    {
     "data": {
      "text/plain": [
       "array([[12,  5,  2,  4],\n",
       "       [ 7,  6,  8,  8],\n",
       "       [ 1,  6,  7,  7]])"
      ]
     },
     "execution_count": 86,
     "metadata": {},
     "output_type": "execute_result"
    }
   ],
   "source": [
    "x2"
   ]
  },
  {
   "cell_type": "code",
   "execution_count": 87,
   "id": "10f1657e",
   "metadata": {},
   "outputs": [
    {
     "name": "stdout",
     "output_type": "stream",
     "text": [
      "x3 ndim:  3\n",
      "x3 shape: (3, 4, 5)\n",
      "x3 size:  60\n",
      "dtype:  int64\n"
     ]
    }
   ],
   "source": [
    "print('x3 ndim: ', x3.ndim) #number of dimension, in this case 3\n",
    "print('x3 shape:', x3.shape) #shape is the size, in this case, 3x4x5\n",
    "print('x3 size: ', x3.size) #number of object, in this case 60\n",
    "print('dtype: ', x3.dtype) #type"
   ]
  },
  {
   "cell_type": "code",
   "execution_count": 88,
   "id": "c6882ce3",
   "metadata": {},
   "outputs": [
    {
     "name": "stdout",
     "output_type": "stream",
     "text": [
      "itemsize 8 bytes\n",
      "nbytes 480 bytes\n"
     ]
    }
   ],
   "source": [
    "print('itemsize', x3.itemsize, 'bytes') #size of each array\n",
    "print('nbytes', x3.nbytes, 'bytes') #total size of the array\n",
    "#in general, we expect that nbytes is equal to itemsize times size\n"
   ]
  },
  {
   "cell_type": "code",
   "execution_count": 89,
   "id": "0ca8336d",
   "metadata": {},
   "outputs": [],
   "source": [
    "#16-10-2021 : Page 44 - #The NumPy slicing syntax follows that of the standard Python list; to access a slice of an array x, use this: x[start:stop:step]"
   ]
  },
  {
   "cell_type": "code",
   "execution_count": 90,
   "id": "4774bf2c",
   "metadata": {},
   "outputs": [],
   "source": [
    "#Note - There's a difference between Python List and NumPy Librairy Array's - unlike Python lists, NumPy arrays have a fixed type\n"
   ]
  },
  {
   "cell_type": "code",
   "execution_count": 91,
   "id": "f0edd559",
   "metadata": {},
   "outputs": [
    {
     "data": {
      "text/plain": [
       "array([0, 1, 2, 3, 4, 5, 6, 7, 8, 9])"
      ]
     },
     "execution_count": 91,
     "metadata": {},
     "output_type": "execute_result"
    }
   ],
   "source": [
    "#The NumPy slicing syntax follows that of the standard Python list; to access a slice of an array x, use this - \n",
    "#x[start:stop:step] - accessing an array of an array i.e. sub-array? \n",
    "x6 = np.arange(10) #genarate a linear array of 10 objects\n",
    "x6"
   ]
  },
  {
   "cell_type": "code",
   "execution_count": 92,
   "id": "e700724c",
   "metadata": {},
   "outputs": [
    {
     "data": {
      "text/plain": [
       "array([4, 5, 6])"
      ]
     },
     "execution_count": 92,
     "metadata": {},
     "output_type": "execute_result"
    }
   ],
   "source": [
    "x6[4:7] #Exemple - access the middle subarray -> 4 = 'start' and 7 = 'stop', by default step = 1"
   ]
  },
  {
   "cell_type": "code",
   "execution_count": 93,
   "id": "170804f1",
   "metadata": {},
   "outputs": [
    {
     "data": {
      "text/plain": [
       "array([[12,  5,  2,  4],\n",
       "       [ 7,  6,  8,  8],\n",
       "       [ 1,  6,  7,  7]])"
      ]
     },
     "execution_count": 93,
     "metadata": {},
     "output_type": "execute_result"
    }
   ],
   "source": [
    "#Multi-dimensional slices work in the same way, with multiple slices separated by commas. \n",
    "x2"
   ]
  },
  {
   "cell_type": "code",
   "execution_count": 94,
   "id": "0274a96d",
   "metadata": {},
   "outputs": [
    {
     "data": {
      "text/plain": [
       "array([[12,  5,  2],\n",
       "       [ 7,  6,  8]])"
      ]
     },
     "execution_count": 94,
     "metadata": {},
     "output_type": "execute_result"
    }
   ],
   "source": [
    "#Access two rows and three colums \n",
    "x2[:2,:3] #Exemple: x[row,column]\n"
   ]
  },
  {
   "cell_type": "code",
   "execution_count": 95,
   "id": "737a7af9",
   "metadata": {},
   "outputs": [
    {
     "name": "stdout",
     "output_type": "stream",
     "text": [
      "[12  5  2  4]\n"
     ]
    }
   ],
   "source": [
    "#First row of x2\n",
    "print(x2[0,:]) #or print(x2[0])"
   ]
  },
  {
   "cell_type": "code",
   "execution_count": 96,
   "id": "8afe9f02",
   "metadata": {},
   "outputs": [
    {
     "name": "stdout",
     "output_type": "stream",
     "text": [
      "[[12  5  2  4]\n",
      " [ 7  6  8  8]\n",
      " [ 1  6  7  7]]\n"
     ]
    }
   ],
   "source": [
    "#How to extract a 2x2 sub-array (array of an array)\n",
    "print(x2)"
   ]
  },
  {
   "cell_type": "code",
   "execution_count": 97,
   "id": "64809384",
   "metadata": {},
   "outputs": [
    {
     "name": "stdout",
     "output_type": "stream",
     "text": [
      "[[12  5]\n",
      " [ 7  6]]\n"
     ]
    }
   ],
   "source": [
    "x2_sub=x2[:2,:2] #2x2 matrix\n",
    "print(x2_sub)\n",
    "#it possible afterward to change directly the sub-array and it will change de main array."
   ]
  },
  {
   "cell_type": "code",
   "execution_count": 98,
   "id": "9409179b",
   "metadata": {},
   "outputs": [
    {
     "name": "stdout",
     "output_type": "stream",
     "text": [
      "[[99  5]\n",
      " [ 7  6]]\n"
     ]
    }
   ],
   "source": [
    "x2_sub[0,0] = 99\n",
    "print(x2_sub)\n"
   ]
  },
  {
   "cell_type": "code",
   "execution_count": 99,
   "id": "a4b50ffb",
   "metadata": {},
   "outputs": [
    {
     "name": "stdout",
     "output_type": "stream",
     "text": [
      "[[99  5  2  4]\n",
      " [ 7  6  8  8]\n",
      " [ 1  6  7  7]]\n"
     ]
    }
   ],
   "source": [
    "print(x2)"
   ]
  },
  {
   "cell_type": "raw",
   "id": "5030c0f1",
   "metadata": {},
   "source": [
    "Creating copies of arrays\n",
    "\n",
    "It is sometimes useful to instead explicitly copy the data within an array or a subarray. This can be most easily done with the copy() method:"
   ]
  },
  {
   "cell_type": "code",
   "execution_count": 100,
   "id": "38391cb1",
   "metadata": {},
   "outputs": [
    {
     "name": "stdout",
     "output_type": "stream",
     "text": [
      "[[99  5]\n",
      " [ 7  6]]\n"
     ]
    }
   ],
   "source": [
    "x2_sub_copy = x2[:2,:2].copy() #Create a copy of a 2x2 sub-array \n",
    "#We now modify this subarray, the original array is not touched \n",
    "print(x2_sub_copy)\n"
   ]
  },
  {
   "cell_type": "code",
   "execution_count": 101,
   "id": "95bbb7a6",
   "metadata": {},
   "outputs": [
    {
     "name": "stdout",
     "output_type": "stream",
     "text": [
      "[1 2 3]\n",
      "[3 2 1]\n"
     ]
    }
   ],
   "source": [
    "#Concatenation of arrays\n",
    "x = np.array([1, 2, 3])\n",
    "y = np.array([3, 2, 1])\n",
    "print(x)\n",
    "print(y)"
   ]
  },
  {
   "cell_type": "code",
   "execution_count": 102,
   "id": "3b494c45",
   "metadata": {},
   "outputs": [
    {
     "data": {
      "text/plain": [
       "array([1, 2, 3, 3, 2, 1])"
      ]
     },
     "execution_count": 102,
     "metadata": {},
     "output_type": "execute_result"
    }
   ],
   "source": [
    "np.concatenate([x,y])"
   ]
  },
  {
   "cell_type": "code",
   "execution_count": 103,
   "id": "e93d23c4",
   "metadata": {},
   "outputs": [
    {
     "name": "stdout",
     "output_type": "stream",
     "text": [
      "[1 2 3 3 2 1]\n"
     ]
    }
   ],
   "source": [
    "xy = np.concatenate([x,y])\n",
    "print(xy)"
   ]
  },
  {
   "cell_type": "code",
   "execution_count": 104,
   "id": "cd5911dd",
   "metadata": {},
   "outputs": [
    {
     "name": "stdout",
     "output_type": "stream",
     "text": [
      "[ 1  2  3  3  2  1 99 99 99]\n"
     ]
    }
   ],
   "source": [
    "#You can also concatenate more than two arrays at once:\n",
    "z = [99,99,99]\n",
    "xyz = np.concatenate([x,y,z])\n",
    "print(xyz)"
   ]
  },
  {
   "cell_type": "code",
   "execution_count": 105,
   "id": "83399a2d",
   "metadata": {},
   "outputs": [
    {
     "data": {
      "text/plain": [
       "array([[1, 2, 3],\n",
       "       [4, 5, 6],\n",
       "       [6, 5, 4],\n",
       "       [3, 2, 1]])"
      ]
     },
     "execution_count": 105,
     "metadata": {},
     "output_type": "execute_result"
    }
   ],
   "source": [
    "#np.concatenate can also be used for two-dimensional arrays (matrix concatenate)\n",
    "grid1 = np.array([[1,2,3],[4,5,6]])\n",
    "grid2 = np.array([[6,5,4],[3,2,1]])\n",
    "np.concatenate([grid1, grid2])"
   ]
  },
  {
   "cell_type": "code",
   "execution_count": 106,
   "id": "adec05cb",
   "metadata": {},
   "outputs": [
    {
     "data": {
      "text/plain": [
       "array([[1, 2, 3, 6, 5, 4],\n",
       "       [4, 5, 6, 3, 2, 1]])"
      ]
     },
     "execution_count": 106,
     "metadata": {},
     "output_type": "execute_result"
    }
   ],
   "source": [
    "np.concatenate([grid1, grid2], axis=1)"
   ]
  },
  {
   "cell_type": "code",
   "execution_count": 107,
   "id": "56a4d7f9",
   "metadata": {},
   "outputs": [
    {
     "data": {
      "text/plain": [
       "array([[1, 2, 3],\n",
       "       [9, 8, 7],\n",
       "       [6, 5, 4]])"
      ]
     },
     "execution_count": 107,
     "metadata": {},
     "output_type": "execute_result"
    }
   ],
   "source": [
    "#np.vstack[x, grid] - add a 1d array to a 2d array (vertical)\n",
    "#np.hstack[grid,y] - add a 1d array to a 2d array (horizontal)\n",
    "#np.dstack will stack arrays along the third axi (3d)\n",
    "x = np.array([1,2,3])\n",
    "grid = np.array([[9,8,7],[6,5,4]])\n",
    "(np.vstack([x,grid]))"
   ]
  },
  {
   "cell_type": "code",
   "execution_count": 108,
   "id": "1897e20c",
   "metadata": {},
   "outputs": [
    {
     "name": "stdout",
     "output_type": "stream",
     "text": [
      "[1 2 3] [99 99] [3 2 1]\n"
     ]
    }
   ],
   "source": [
    "x=[1,2,3,99,99,3,2,1] \n",
    "x1, x2, x3 = np.split(x, [3, 5]) #Split a 1d array\n",
    "print(x1, x2, x3)"
   ]
  },
  {
   "cell_type": "code",
   "execution_count": 109,
   "id": "dd39ab47",
   "metadata": {},
   "outputs": [
    {
     "data": {
      "text/plain": [
       "array([[ 0,  1,  2,  3],\n",
       "       [ 4,  5,  6,  7],\n",
       "       [ 8,  9, 10, 11],\n",
       "       [12, 13, 14, 15]])"
      ]
     },
     "execution_count": 109,
     "metadata": {},
     "output_type": "execute_result"
    }
   ],
   "source": [
    "#split a grid array (matrix)\n",
    "#np.hsplit or np.vsplit\n",
    "grid = np.arange(16).reshape(4,4) #Reshape in a 4x4 matrix - Linear range 0 to 16.\n",
    "grid"
   ]
  },
  {
   "cell_type": "code",
   "execution_count": 110,
   "id": "8fb887b2",
   "metadata": {},
   "outputs": [
    {
     "name": "stdout",
     "output_type": "stream",
     "text": [
      "[[0 1 2 3]\n",
      " [4 5 6 7]]\n",
      "[[ 8  9 10 11]\n",
      " [12 13 14 15]]\n"
     ]
    }
   ],
   "source": [
    "upper, lower = np.vsplit(grid, [2]) # Vertical split in half\n",
    "print(upper)\n",
    "print(lower)"
   ]
  },
  {
   "cell_type": "code",
   "execution_count": 111,
   "id": "3ab9dc73",
   "metadata": {},
   "outputs": [],
   "source": [
    "import numpy as np\n",
    "np.random.seed(0)\n",
    "\n",
    "def compute_reciprocals(values): #definition of a function? \n",
    "    output = np.empty(len(values))\n",
    "    for i in range(len(values)):\n",
    "        output[i] = 1.0/values[i]\n",
    "        return output\n",
    "    \n",
    "    values = np.random.randint(1,10, size=5)\n",
    "    compute_reciprocals(values)"
   ]
  },
  {
   "cell_type": "code",
   "execution_count": 112,
   "id": "0358a283",
   "metadata": {},
   "outputs": [
    {
     "name": "stdout",
     "output_type": "stream",
     "text": [
      "5.22 µs ± 99.1 ns per loop (mean ± std. dev. of 7 runs, 100000 loops each)\n"
     ]
    }
   ],
   "source": [
    "big_array = np.random.randint(1,100, size=1000000)\n",
    "%timeit compute_reciprocals(big_array) #function compute_reciproccals is used again..or UFuncs?"
   ]
  },
  {
   "cell_type": "raw",
   "id": "414bed6b",
   "metadata": {},
   "source": [
    "Computations using vectorization through ufuncs are nearly always more efficient than their counterpart implemented through Python loops, especially as the arrays grow in size. \n",
    "\n",
    "Ufuncs exist in two flavors: unary ufuncs, which operate on a single input, and binary ufuncs, which operate on two inputs. "
   ]
  },
  {
   "cell_type": "code",
   "execution_count": 113,
   "id": "20f901f2",
   "metadata": {},
   "outputs": [
    {
     "name": "stdout",
     "output_type": "stream",
     "text": [
      "x = [0 1 2 3]\n",
      "x + 5 = [5 6 7 8]\n",
      "x - 5 = [-5 -4 -3 -2]\n",
      "x * 2 = [0 2 4 6]\n",
      "x / 2 = [0.  0.5 1.  1.5]\n",
      "x // 2 = [0 0 1 1]\n",
      "Output array = [-1.   -2.25 -4.   -6.25]\n"
     ]
    }
   ],
   "source": [
    "x = np.arange(4) \n",
    "print(\"x =\", x)\n",
    "print(\"x + 5 =\", x + 5) \n",
    "print(\"x - 5 =\", x - 5) \n",
    "print(\"x * 2 =\", x * 2)\n",
    "print(\"x / 2 =\", x / 2)\n",
    "print(\"x // 2 =\", x // 2) # floor division\n",
    "#a ** operator for exponentiation, and a % operator for modulus:\n",
    "#Ufuncs - Make use of Python’s native arithmetic operators. \n",
    "print('Output array =',-(0.5*x + 1) ** 2)"
   ]
  },
  {
   "cell_type": "code",
   "execution_count": 114,
   "id": "45ddf645",
   "metadata": {},
   "outputs": [
    {
     "name": "stdout",
     "output_type": "stream",
     "text": [
      "[0 1 2 3]\n",
      "[2 3 4 5]\n"
     ]
    }
   ],
   "source": [
    "print(x)\n",
    "y = np.add(x,2) #add +2 to each object of the array\n",
    "print(y)"
   ]
  },
  {
   "cell_type": "code",
   "execution_count": 115,
   "id": "58caffd2",
   "metadata": {},
   "outputs": [
    {
     "name": "stdout",
     "output_type": "stream",
     "text": [
      "[2 1 0 1 2]\n",
      "[2 1 0 1 2]\n"
     ]
    }
   ],
   "source": [
    "#tranform values into absolute values\n",
    "x = np.array([-2,-1,0,1,2])\n",
    "print(abs(x)) \n",
    "#or np.absolute(x)\n",
    "print(np.absolute(x))\n",
    "#it can handle complexe number like 4-3j"
   ]
  },
  {
   "cell_type": "raw",
   "id": "e38da892",
   "metadata": {},
   "source": [
    "For large calculations, it is sometimes useful to be able to specify the array where the result of the calculation will be stored. "
   ]
  },
  {
   "cell_type": "code",
   "execution_count": 139,
   "id": "db5a100d",
   "metadata": {},
   "outputs": [
    {
     "name": "stdout",
     "output_type": "stream",
     "text": [
      "Array x times 10 = [ 0 10 20 30 40]\n"
     ]
    }
   ],
   "source": [
    "x = np.arange(5)\n",
    "y = np.multiply(x, 10)\n",
    "print('Array x times 10 =', y)"
   ]
  },
  {
   "cell_type": "code",
   "execution_count": 117,
   "id": "931ebd77",
   "metadata": {},
   "outputs": [
    {
     "name": "stdout",
     "output_type": "stream",
     "text": [
      "[1 2 3 4 5]\n",
      "120\n"
     ]
    }
   ],
   "source": [
    "x = np.arange(1, 6)\n",
    "np.add.reduce(x) #Reduce is for aggreation. add is for addition of a value into the array. add.reduce is a sum of the array\n",
    "y = np.multiply.reduce(x) #reduce added to multiply - multiply the object in the array\n",
    "print(x)\n",
    "print(y)"
   ]
  },
  {
   "cell_type": "code",
   "execution_count": 118,
   "id": "f909b06f",
   "metadata": {},
   "outputs": [
    {
     "data": {
      "text/plain": [
       "array([ 1,  3,  6, 10, 15])"
      ]
     },
     "execution_count": 118,
     "metadata": {},
     "output_type": "execute_result"
    }
   ],
   "source": [
    "#Store all the intermediate results of the computation, we can instead use accumulate. \n",
    "np.add.accumulate(x) # 1x2 = 3, 2x3 = 6... :/"
   ]
  },
  {
   "cell_type": "code",
   "execution_count": 119,
   "id": "522409a9",
   "metadata": {},
   "outputs": [
    {
     "name": "stdout",
     "output_type": "stream",
     "text": [
      "Generation of a random array of 100 obj. = [0.60846394 0.7179427  0.43036406 0.25241011 0.97572458 0.1197632\n",
      " 0.20856888 0.23983126 0.39034023 0.61318864 0.8603706  0.34645385\n",
      " 0.2939397  0.39274799 0.69444295 0.71234984 0.64181726 0.14519247\n",
      " 0.91796933 0.02800916 0.53171561 0.34500616 0.80695872 0.07155939\n",
      " 0.20794804 0.24551118 0.77437728 0.45116519 0.08043329 0.09711552\n",
      " 0.06215684 0.16934182 0.468866   0.87884932 0.09785878 0.12446372\n",
      " 0.42253024 0.39034562 0.35621026 0.99663284 0.55823601 0.84371046\n",
      " 0.78986544 0.99105381 0.28137886 0.01765187 0.6559858  0.61765416\n",
      " 0.17973144 0.84749539 0.46820265 0.97459109 0.60303019 0.31209932\n",
      " 0.63006004 0.93992516 0.36891447 0.86732999 0.45108972 0.67813826\n",
      " 0.82235473 0.21737642 0.21458453 0.75687255 0.891968   0.91821687\n",
      " 0.85946    0.50718748 0.10660595 0.64094331 0.78333905 0.28045269\n",
      " 0.2888203  0.39869403 0.21810444 0.41660806 0.69813452 0.81783624\n",
      " 0.72199978 0.28087945 0.0323053  0.10372152 0.53005891 0.69079487\n",
      " 0.99206462 0.19107554 0.80362599 0.27757786 0.95501989 0.34106202\n",
      " 0.05331828 0.90524432 0.82573516 0.47536596 0.20202806 0.90823836\n",
      " 0.73882912 0.97343133 0.04370114 0.75900897]\n",
      "Sum of the 100 objects in the array = 50.88772629915091\n"
     ]
    }
   ],
   "source": [
    "L = np.random.random(100) #generate a random array of 100 objects - real numbers\n",
    "print('Generation of a random array of 100 obj. =', L)\n",
    "print('Sum of the 100 objects in the array =', sum(L)) #or np.sum(L) works too."
   ]
  },
  {
   "cell_type": "code",
   "execution_count": 120,
   "id": "2c1a8cde",
   "metadata": {},
   "outputs": [
    {
     "data": {
      "text/plain": [
       "50.88772629915093"
      ]
     },
     "execution_count": 120,
     "metadata": {},
     "output_type": "execute_result"
    }
   ],
   "source": [
    "np.add.reduce(L) #seems to work too...? But not exactly the same number."
   ]
  },
  {
   "cell_type": "raw",
   "id": "487c2dfa",
   "metadata": {},
   "source": [
    "Comments: Because it executes the operation in compiled code, NumPy’s version of the operation is computed much more quickly -  the sum function and the np.sum function are not identical, which can sometimes lead to confusion! In particular, their optional arguments have differ‐ ent meanings, and np.sum is aware of multiple array dimensions,"
   ]
  },
  {
   "cell_type": "code",
   "execution_count": 121,
   "id": "3e088e7a",
   "metadata": {},
   "outputs": [
    {
     "name": "stdout",
     "output_type": "stream",
     "text": [
      "223 ms ± 5.34 ms per loop (mean ± std. dev. of 7 runs, 1 loop each)\n"
     ]
    }
   ],
   "source": [
    "%timeit min(big_array), max(big_array)"
   ]
  },
  {
   "cell_type": "code",
   "execution_count": 122,
   "id": "39d067fe",
   "metadata": {},
   "outputs": [
    {
     "name": "stdout",
     "output_type": "stream",
     "text": [
      "2.02 ms ± 36.1 µs per loop (mean ± std. dev. of 7 runs, 1000 loops each)\n"
     ]
    }
   ],
   "source": [
    "%timeit np.min(big_array), np.max(big_array)"
   ]
  },
  {
   "cell_type": "code",
   "execution_count": 123,
   "id": "f3edbce1",
   "metadata": {},
   "outputs": [],
   "source": [
    "#Numpy returns an ouput in 2.03 ms and Python native function return an output in 222 ms. Delta of 20 ms. "
   ]
  },
  {
   "cell_type": "code",
   "execution_count": 124,
   "id": "7bfc5401",
   "metadata": {},
   "outputs": [
    {
     "name": "stdout",
     "output_type": "stream",
     "text": [
      "3x4 random matrix = [[0.13531095 0.88282561 0.3126663  0.49555108]\n",
      " [0.9552979  0.81778172 0.49902653 0.22465879]\n",
      " [0.89005733 0.30654364 0.37441302 0.75259926]]\n"
     ]
    }
   ],
   "source": [
    "#Multi-dimensional aggregates\n",
    "M = np.random.random((3,4)) #Generate a 3x4 random matrix\n",
    "print('3x4 random matrix =', M)"
   ]
  },
  {
   "cell_type": "code",
   "execution_count": 125,
   "id": "7680226e",
   "metadata": {},
   "outputs": [
    {
     "data": {
      "text/plain": [
       "6.646732129985812"
      ]
     },
     "execution_count": 125,
     "metadata": {},
     "output_type": "execute_result"
    }
   ],
   "source": [
    "M.sum() #Sum of the 2d array"
   ]
  },
  {
   "cell_type": "code",
   "execution_count": 126,
   "id": "1128c57c",
   "metadata": {},
   "outputs": [
    {
     "data": {
      "text/plain": [
       "array([0.13531095, 0.30654364, 0.3126663 , 0.22465879])"
      ]
     },
     "execution_count": 126,
     "metadata": {},
     "output_type": "execute_result"
    }
   ],
   "source": [
    "M.min(axis=0) #return the minimum value within each column by specifying axis=0"
   ]
  },
  {
   "cell_type": "code",
   "execution_count": 127,
   "id": "2bb99b7f",
   "metadata": {},
   "outputs": [
    {
     "data": {
      "text/plain": [
       "array([5, 6, 7])"
      ]
     },
     "execution_count": 127,
     "metadata": {},
     "output_type": "execute_result"
    }
   ],
   "source": [
    "#Introducing Broadcasting\n",
    "#Recall that for arrays of the same size, binary operations are performed on an element-by-element basis:\n",
    "a = np.array([0,1,2])\n",
    "b = np.array([5,5,5])\n",
    "a+b\n"
   ]
  },
  {
   "cell_type": "code",
   "execution_count": 128,
   "id": "f763d05e",
   "metadata": {},
   "outputs": [
    {
     "data": {
      "text/plain": [
       "array([5, 6, 7])"
      ]
     },
     "execution_count": 128,
     "metadata": {},
     "output_type": "execute_result"
    }
   ],
   "source": [
    "#Broadcasting allows these types of binary operations to be performed on arrays of dif‐ ferent sizes—for example, we can just as easily add a scalar (think of it as a zero- dimensional array) to an array\n",
    "a+5\n"
   ]
  },
  {
   "cell_type": "code",
   "execution_count": 129,
   "id": "73c7649d",
   "metadata": {},
   "outputs": [
    {
     "data": {
      "text/plain": [
       "array([[1., 1., 1.],\n",
       "       [1., 1., 1.],\n",
       "       [1., 1., 1.]])"
      ]
     },
     "execution_count": 129,
     "metadata": {},
     "output_type": "execute_result"
    }
   ],
   "source": [
    "M = np.ones((3,3))\n",
    "M"
   ]
  },
  {
   "cell_type": "code",
   "execution_count": 130,
   "id": "4586caa6",
   "metadata": {},
   "outputs": [
    {
     "data": {
      "text/plain": [
       "array([[1., 2., 3.],\n",
       "       [1., 2., 3.],\n",
       "       [1., 2., 3.]])"
      ]
     },
     "execution_count": 130,
     "metadata": {},
     "output_type": "execute_result"
    }
   ],
   "source": [
    "M+a #Here the one-dimensional array a is stretched, or broadcast, across the second dimension in order to match the shape of M."
   ]
  },
  {
   "cell_type": "code",
   "execution_count": 131,
   "id": "549fb85d",
   "metadata": {},
   "outputs": [],
   "source": [
    "#Plotting a two-dimensional function\n",
    "# x and y have 50 steps from 0 to 5\n",
    "x = np.linspace(0,5,50)\n",
    "y = np.linspace(0,5,50)[:, np.newaxis]\n",
    "z = np.sin(x) ** 10 + np.cos(10 + y * x) * np.cos(x)\n",
    "#in this case z=f(x,y) i.e a multi-dimensional function "
   ]
  },
  {
   "cell_type": "code",
   "execution_count": 132,
   "id": "e54e377f",
   "metadata": {},
   "outputs": [
    {
     "data": {
      "text/plain": [
       "<matplotlib.colorbar.Colorbar at 0x7f8e9464afd0>"
      ]
     },
     "execution_count": 132,
     "metadata": {},
     "output_type": "execute_result"
    },
    {
     "data": {
      "image/png": "[encoded data removed]",
      "text/plain": [
       "<Figure size 432x288 with 2 Axes>"
      ]
     },
     "metadata": {},
     "output_type": "display_data"
    }
   ],
   "source": [
    "plt.imshow(z, origin='lower', extent=[0,5,0,5], cmap='viridis') #note: extent is the parameter of the graph\n",
    "plt.colorbar()"
   ]
  },
  {
   "cell_type": "code",
   "execution_count": 133,
   "id": "ff9e4dc2",
   "metadata": {},
   "outputs": [],
   "source": [
    "#Comparison Operators as ufuncs\n",
    "x = np.array([1,2,3,4,5])"
   ]
  },
  {
   "cell_type": "code",
   "execution_count": 134,
   "id": "f1438173",
   "metadata": {},
   "outputs": [
    {
     "data": {
      "text/plain": [
       "array([ True,  True, False, False, False])"
      ]
     },
     "execution_count": 134,
     "metadata": {},
     "output_type": "execute_result"
    }
   ],
   "source": [
    "x < 3 "
   ]
  },
  {
   "cell_type": "code",
   "execution_count": 135,
   "id": "8c9941f9",
   "metadata": {},
   "outputs": [
    {
     "data": {
      "text/plain": [
       "array([[5, 0, 3, 3],\n",
       "       [7, 9, 3, 5],\n",
       "       [2, 4, 7, 6]])"
      ]
     },
     "execution_count": 135,
     "metadata": {},
     "output_type": "execute_result"
    }
   ],
   "source": [
    "rng = np.random.RandomState(0)\n",
    "x = rng.randint(10, size=(3,4))\n",
    "x"
   ]
  },
  {
   "cell_type": "code",
   "execution_count": 136,
   "id": "000f0449",
   "metadata": {},
   "outputs": [
    {
     "data": {
      "text/plain": [
       "array([[False, False, False, False],\n",
       "       [ True,  True, False, False],\n",
       "       [False, False,  True, False]])"
      ]
     },
     "execution_count": 136,
     "metadata": {},
     "output_type": "execute_result"
    }
   ],
   "source": [
    "x > 6"
   ]
  },
  {
   "cell_type": "code",
   "execution_count": 137,
   "id": "0f057a56",
   "metadata": {},
   "outputs": [
    {
     "data": {
      "text/plain": [
       "8"
      ]
     },
     "execution_count": 137,
     "metadata": {},
     "output_type": "execute_result"
    }
   ],
   "source": [
    "#To count the number of True entrie in a Boolean array, np.count_nonzero is useful\n",
    "#np.any\n",
    "#np.all\n",
    "np.count_nonzero(x<6)"
   ]
  },
  {
   "cell_type": "code",
   "execution_count": 149,
   "id": "de0d0ac3",
   "metadata": {},
   "outputs": [
    {
     "data": {
      "text/html": [
       "<div>\n",
       "<style scoped>\n",
       "    .dataframe tbody tr th:only-of-type {\n",
       "        vertical-align: middle;\n",
       "    }\n",
       "\n",
       "    .dataframe tbody tr th {\n",
       "        vertical-align: top;\n",
       "    }\n",
       "\n",
       "    .dataframe thead th {\n",
       "        text-align: right;\n",
       "    }\n",
       "</style>\n",
       "<table border=\"1\" class=\"dataframe\">\n",
       "  <thead>\n",
       "    <tr style=\"text-align: right;\">\n",
       "      <th></th>\n",
       "      <th>STATION</th>\n",
       "      <th>STATION_NAME</th>\n",
       "      <th>DATE</th>\n",
       "      <th>PRCP</th>\n",
       "      <th>SNWD</th>\n",
       "      <th>SNOW</th>\n",
       "      <th>TMAX</th>\n",
       "      <th>TMIN</th>\n",
       "      <th>AWND</th>\n",
       "      <th>WDF2</th>\n",
       "      <th>WDF5</th>\n",
       "      <th>WSF2</th>\n",
       "      <th>WSF5</th>\n",
       "      <th>WT01</th>\n",
       "      <th>WT05</th>\n",
       "      <th>WT02</th>\n",
       "      <th>WT03</th>\n",
       "    </tr>\n",
       "  </thead>\n",
       "  <tbody>\n",
       "    <tr>\n",
       "      <td>0</td>\n",
       "      <td>GHCND:USW00024233</td>\n",
       "      <td>SEATTLE TACOMA INTERNATIONAL AIRPORT WA US</td>\n",
       "      <td>20140101</td>\n",
       "      <td>0</td>\n",
       "      <td>0</td>\n",
       "      <td>0</td>\n",
       "      <td>72</td>\n",
       "      <td>33</td>\n",
       "      <td>12</td>\n",
       "      <td>340</td>\n",
       "      <td>310</td>\n",
       "      <td>36</td>\n",
       "      <td>40</td>\n",
       "      <td>-9999</td>\n",
       "      <td>-9999</td>\n",
       "      <td>-9999</td>\n",
       "      <td>-9999</td>\n",
       "    </tr>\n",
       "    <tr>\n",
       "      <td>1</td>\n",
       "      <td>GHCND:USW00024233</td>\n",
       "      <td>SEATTLE TACOMA INTERNATIONAL AIRPORT WA US</td>\n",
       "      <td>20140102</td>\n",
       "      <td>41</td>\n",
       "      <td>0</td>\n",
       "      <td>0</td>\n",
       "      <td>106</td>\n",
       "      <td>61</td>\n",
       "      <td>32</td>\n",
       "      <td>190</td>\n",
       "      <td>200</td>\n",
       "      <td>94</td>\n",
       "      <td>116</td>\n",
       "      <td>-9999</td>\n",
       "      <td>-9999</td>\n",
       "      <td>-9999</td>\n",
       "      <td>-9999</td>\n",
       "    </tr>\n",
       "    <tr>\n",
       "      <td>2</td>\n",
       "      <td>GHCND:USW00024233</td>\n",
       "      <td>SEATTLE TACOMA INTERNATIONAL AIRPORT WA US</td>\n",
       "      <td>20140103</td>\n",
       "      <td>15</td>\n",
       "      <td>0</td>\n",
       "      <td>0</td>\n",
       "      <td>89</td>\n",
       "      <td>28</td>\n",
       "      <td>26</td>\n",
       "      <td>30</td>\n",
       "      <td>50</td>\n",
       "      <td>63</td>\n",
       "      <td>72</td>\n",
       "      <td>1</td>\n",
       "      <td>-9999</td>\n",
       "      <td>-9999</td>\n",
       "      <td>-9999</td>\n",
       "    </tr>\n",
       "    <tr>\n",
       "      <td>3</td>\n",
       "      <td>GHCND:USW00024233</td>\n",
       "      <td>SEATTLE TACOMA INTERNATIONAL AIRPORT WA US</td>\n",
       "      <td>20140104</td>\n",
       "      <td>0</td>\n",
       "      <td>0</td>\n",
       "      <td>0</td>\n",
       "      <td>78</td>\n",
       "      <td>6</td>\n",
       "      <td>27</td>\n",
       "      <td>40</td>\n",
       "      <td>40</td>\n",
       "      <td>45</td>\n",
       "      <td>58</td>\n",
       "      <td>1</td>\n",
       "      <td>-9999</td>\n",
       "      <td>-9999</td>\n",
       "      <td>-9999</td>\n",
       "    </tr>\n",
       "    <tr>\n",
       "      <td>4</td>\n",
       "      <td>GHCND:USW00024233</td>\n",
       "      <td>SEATTLE TACOMA INTERNATIONAL AIRPORT WA US</td>\n",
       "      <td>20140105</td>\n",
       "      <td>0</td>\n",
       "      <td>0</td>\n",
       "      <td>0</td>\n",
       "      <td>83</td>\n",
       "      <td>-5</td>\n",
       "      <td>37</td>\n",
       "      <td>10</td>\n",
       "      <td>10</td>\n",
       "      <td>67</td>\n",
       "      <td>76</td>\n",
       "      <td>-9999</td>\n",
       "      <td>-9999</td>\n",
       "      <td>-9999</td>\n",
       "      <td>-9999</td>\n",
       "    </tr>\n",
       "    <tr>\n",
       "      <td>5</td>\n",
       "      <td>GHCND:USW00024233</td>\n",
       "      <td>SEATTLE TACOMA INTERNATIONAL AIRPORT WA US</td>\n",
       "      <td>20140106</td>\n",
       "      <td>3</td>\n",
       "      <td>0</td>\n",
       "      <td>0</td>\n",
       "      <td>78</td>\n",
       "      <td>-5</td>\n",
       "      <td>26</td>\n",
       "      <td>210</td>\n",
       "      <td>210</td>\n",
       "      <td>112</td>\n",
       "      <td>125</td>\n",
       "      <td>1</td>\n",
       "      <td>-9999</td>\n",
       "      <td>-9999</td>\n",
       "      <td>-9999</td>\n",
       "    </tr>\n",
       "    <tr>\n",
       "      <td>6</td>\n",
       "      <td>GHCND:USW00024233</td>\n",
       "      <td>SEATTLE TACOMA INTERNATIONAL AIRPORT WA US</td>\n",
       "      <td>20140107</td>\n",
       "      <td>122</td>\n",
       "      <td>0</td>\n",
       "      <td>0</td>\n",
       "      <td>83</td>\n",
       "      <td>50</td>\n",
       "      <td>16</td>\n",
       "      <td>160</td>\n",
       "      <td>150</td>\n",
       "      <td>45</td>\n",
       "      <td>54</td>\n",
       "      <td>-9999</td>\n",
       "      <td>-9999</td>\n",
       "      <td>-9999</td>\n",
       "      <td>-9999</td>\n",
       "    </tr>\n",
       "    <tr>\n",
       "      <td>7</td>\n",
       "      <td>GHCND:USW00024233</td>\n",
       "      <td>SEATTLE TACOMA INTERNATIONAL AIRPORT WA US</td>\n",
       "      <td>20140108</td>\n",
       "      <td>97</td>\n",
       "      <td>0</td>\n",
       "      <td>0</td>\n",
       "      <td>100</td>\n",
       "      <td>72</td>\n",
       "      <td>46</td>\n",
       "      <td>180</td>\n",
       "      <td>180</td>\n",
       "      <td>107</td>\n",
       "      <td>143</td>\n",
       "      <td>1</td>\n",
       "      <td>-9999</td>\n",
       "      <td>-9999</td>\n",
       "      <td>-9999</td>\n",
       "    </tr>\n",
       "    <tr>\n",
       "      <td>8</td>\n",
       "      <td>GHCND:USW00024233</td>\n",
       "      <td>SEATTLE TACOMA INTERNATIONAL AIRPORT WA US</td>\n",
       "      <td>20140109</td>\n",
       "      <td>58</td>\n",
       "      <td>0</td>\n",
       "      <td>0</td>\n",
       "      <td>94</td>\n",
       "      <td>56</td>\n",
       "      <td>63</td>\n",
       "      <td>210</td>\n",
       "      <td>230</td>\n",
       "      <td>143</td>\n",
       "      <td>183</td>\n",
       "      <td>1</td>\n",
       "      <td>-9999</td>\n",
       "      <td>-9999</td>\n",
       "      <td>-9999</td>\n",
       "    </tr>\n",
       "    <tr>\n",
       "      <td>9</td>\n",
       "      <td>GHCND:USW00024233</td>\n",
       "      <td>SEATTLE TACOMA INTERNATIONAL AIRPORT WA US</td>\n",
       "      <td>20140110</td>\n",
       "      <td>43</td>\n",
       "      <td>0</td>\n",
       "      <td>0</td>\n",
       "      <td>128</td>\n",
       "      <td>83</td>\n",
       "      <td>70</td>\n",
       "      <td>200</td>\n",
       "      <td>200</td>\n",
       "      <td>134</td>\n",
       "      <td>183</td>\n",
       "      <td>-9999</td>\n",
       "      <td>-9999</td>\n",
       "      <td>-9999</td>\n",
       "      <td>-9999</td>\n",
       "    </tr>\n",
       "  </tbody>\n",
       "</table>\n",
       "</div>"
      ],
      "text/plain": [
       "             STATION                                STATION_NAME      DATE  \\\n",
       "0  GHCND:USW00024233  SEATTLE TACOMA INTERNATIONAL AIRPORT WA US  20140101   \n",
       "1  GHCND:USW00024233  SEATTLE TACOMA INTERNATIONAL AIRPORT WA US  20140102   \n",
       "2  GHCND:USW00024233  SEATTLE TACOMA INTERNATIONAL AIRPORT WA US  20140103   \n",
       "3  GHCND:USW00024233  SEATTLE TACOMA INTERNATIONAL AIRPORT WA US  20140104   \n",
       "4  GHCND:USW00024233  SEATTLE TACOMA INTERNATIONAL AIRPORT WA US  20140105   \n",
       "5  GHCND:USW00024233  SEATTLE TACOMA INTERNATIONAL AIRPORT WA US  20140106   \n",
       "6  GHCND:USW00024233  SEATTLE TACOMA INTERNATIONAL AIRPORT WA US  20140107   \n",
       "7  GHCND:USW00024233  SEATTLE TACOMA INTERNATIONAL AIRPORT WA US  20140108   \n",
       "8  GHCND:USW00024233  SEATTLE TACOMA INTERNATIONAL AIRPORT WA US  20140109   \n",
       "9  GHCND:USW00024233  SEATTLE TACOMA INTERNATIONAL AIRPORT WA US  20140110   \n",
       "\n",
       "   PRCP  SNWD  SNOW  TMAX  TMIN  AWND  WDF2  WDF5  WSF2  WSF5  WT01  WT05  \\\n",
       "0     0     0     0    72    33    12   340   310    36    40 -9999 -9999   \n",
       "1    41     0     0   106    61    32   190   200    94   116 -9999 -9999   \n",
       "2    15     0     0    89    28    26    30    50    63    72     1 -9999   \n",
       "3     0     0     0    78     6    27    40    40    45    58     1 -9999   \n",
       "4     0     0     0    83    -5    37    10    10    67    76 -9999 -9999   \n",
       "5     3     0     0    78    -5    26   210   210   112   125     1 -9999   \n",
       "6   122     0     0    83    50    16   160   150    45    54 -9999 -9999   \n",
       "7    97     0     0   100    72    46   180   180   107   143     1 -9999   \n",
       "8    58     0     0    94    56    63   210   230   143   183     1 -9999   \n",
       "9    43     0     0   128    83    70   200   200   134   183 -9999 -9999   \n",
       "\n",
       "   WT02  WT03  \n",
       "0 -9999 -9999  \n",
       "1 -9999 -9999  \n",
       "2 -9999 -9999  \n",
       "3 -9999 -9999  \n",
       "4 -9999 -9999  \n",
       "5 -9999 -9999  \n",
       "6 -9999 -9999  \n",
       "7 -9999 -9999  \n",
       "8 -9999 -9999  \n",
       "9 -9999 -9999  "
      ]
     },
     "execution_count": 149,
     "metadata": {},
     "output_type": "execute_result"
    }
   ],
   "source": [
    "import numpy as np \n",
    "import pandas as pd\n",
    "\n",
    "pd.read_csv('/Users/vincentprudhomme/OneDrive - ETS/2021/Python/data/seattle2014.csv')\n",
    "rainfall.head(10)\n",
    "\n"
   ]
  },
  {
   "cell_type": "code",
   "execution_count": 152,
   "id": "4ad43b2e",
   "metadata": {},
   "outputs": [
    {
     "data": {
      "text/plain": [
       "(365,)"
      ]
     },
     "execution_count": 152,
     "metadata": {},
     "output_type": "execute_result"
    }
   ],
   "source": [
    "#use Pandas to extract rainfall inches as NumPy array\n",
    "\n",
    "rainfall = pd.read_csv('/Users/vincentprudhomme/OneDrive - ETS/2021/Python/data/seattle2014.csv')['PRCP'].values\n",
    "inches = rainfall/254 #1/10mm -> inches\n",
    "inches.shape\n",
    "\n"
   ]
  },
  {
   "cell_type": "code",
   "execution_count": 154,
   "id": "b3e854ba",
   "metadata": {},
   "outputs": [
    {
     "data": {
      "text/plain": [
       "(array([245.,  14.,  13.,  17.,   8.,   6.,   5.,   6.,   4.,   3.,   7.,\n",
       "          6.,   3.,   3.,   3.,   4.,   4.,   2.,   4.,   0.,   0.,   1.,\n",
       "          1.,   1.,   0.,   0.,   0.,   2.,   1.,   1.,   0.,   0.,   0.,\n",
       "          0.,   0.,   0.,   0.,   0.,   0.,   1.]),\n",
       " array([0.        , 0.04596457, 0.09192913, 0.1378937 , 0.18385827,\n",
       "        0.22982283, 0.2757874 , 0.32175197, 0.36771654, 0.4136811 ,\n",
       "        0.45964567, 0.50561024, 0.5515748 , 0.59753937, 0.64350394,\n",
       "        0.6894685 , 0.73543307, 0.78139764, 0.8273622 , 0.87332677,\n",
       "        0.91929134, 0.96525591, 1.01122047, 1.05718504, 1.10314961,\n",
       "        1.14911417, 1.19507874, 1.24104331, 1.28700787, 1.33297244,\n",
       "        1.37893701, 1.42490157, 1.47086614, 1.51683071, 1.56279528,\n",
       "        1.60875984, 1.65472441, 1.70068898, 1.74665354, 1.79261811,\n",
       "        1.83858268]),\n",
       " <a list of 40 Patch objects>)"
      ]
     },
     "execution_count": 154,
     "metadata": {},
     "output_type": "execute_result"
    },
    {
     "data": {
      "image/png": "[encoded data removed]",
      "text/plain": [
       "<Figure size 432x288 with 1 Axes>"
      ]
     },
     "metadata": {},
     "output_type": "display_data"
    }
   ],
   "source": [
    "%matplotlib inline\n",
    "import matplotlib.pyplot as plt\n",
    "import seaborn; seaborn.set() # set plot styles\n",
    "\n",
    "plt.hist(inches, 40)"
   ]
  },
  {
   "cell_type": "code",
   "execution_count": 156,
   "id": "83b7a45f",
   "metadata": {},
   "outputs": [
    {
     "data": {
      "text/plain": [
       "29"
      ]
     },
     "execution_count": 156,
     "metadata": {},
     "output_type": "execute_result"
    }
   ],
   "source": [
    "np.sum((inches > 0.5) & (inches < 1)) #display the number (sum) of days with rainfall between 0.5 and 1.0 inches\n"
   ]
  },
  {
   "cell_type": "code",
   "execution_count": 163,
   "id": "01ba885b",
   "metadata": {},
   "outputs": [
    {
     "name": "stdout",
     "output_type": "stream",
     "text": [
      "Number of days without rain:  215\n",
      "Number of days with rain:  150\n"
     ]
    }
   ],
   "source": [
    "print('Number of days without rain: ', np.sum(inches == 0))\n",
    "print('Number of days with rain: ', np.sum(inches != 0))"
   ]
  },
  {
   "cell_type": "raw",
   "id": "bc1f6768",
   "metadata": {},
   "source": [
    "Boolean Arrays as Mask"
   ]
  },
  {
   "cell_type": "code",
   "execution_count": 169,
   "id": "2f24f4f1",
   "metadata": {},
   "outputs": [
    {
     "data": {
      "text/plain": [
       "array([[5, 0, 3, 3],\n",
       "       [7, 9, 3, 5],\n",
       "       [2, 4, 7, 6]])"
      ]
     },
     "execution_count": 169,
     "metadata": {},
     "output_type": "execute_result"
    }
   ],
   "source": [
    "x = np.array([[5,0,3,3],[7,9,3,5],[2,4,7,6]])\n",
    "x"
   ]
  },
  {
   "cell_type": "code",
   "execution_count": 170,
   "id": "dbe10288",
   "metadata": {},
   "outputs": [
    {
     "data": {
      "text/plain": [
       "array([[False,  True,  True,  True],\n",
       "       [False, False,  True, False],\n",
       "       [ True,  True, False, False]])"
      ]
     },
     "execution_count": 170,
     "metadata": {},
     "output_type": "execute_result"
    }
   ],
   "source": [
    "x < 5 #return which one is less than 5"
   ]
  },
  {
   "cell_type": "raw",
   "id": "43f076d0",
   "metadata": {},
   "source": [
    "#Now to select these values from the array, we can simply index on this Boolean array; this is known as a masking operation:"
   ]
  },
  {
   "cell_type": "code",
   "execution_count": 176,
   "id": "ad966e9b",
   "metadata": {},
   "outputs": [
    {
     "data": {
      "text/plain": [
       "array([0, 3, 3, 3, 2, 4])"
      ]
     },
     "execution_count": 176,
     "metadata": {},
     "output_type": "execute_result"
    }
   ],
   "source": [
    "x[x<5] #index only the value less than 5 (those who meet the condition)"
   ]
  },
  {
   "cell_type": "code",
   "execution_count": 177,
   "id": "2e46f670",
   "metadata": {},
   "outputs": [],
   "source": [
    "#construct a mask of all rainy days\n",
    "rainy = (inches > 0)\n",
    "#construct a mask of all summer days (june 21st is he 172nd day)\n",
    "summer = (np.arange(365) - 172 < 90) & (np.arange(365) - 172 > 0)"
   ]
  },
  {
   "cell_type": "code",
   "execution_count": 193,
   "id": "72fb7b5a",
   "metadata": {},
   "outputs": [
    {
     "name": "stdout",
     "output_type": "stream",
     "text": [
      "1.Median precip on rainy days in 2014 (inches): 0.19488188976377951\n",
      "2.Median precip on summer days in 2014 (inches): 0.0\n",
      "3.Maximum precip on summer days in 2014 (inches): 0.8503937007874016\n",
      "4.Maximum precip on non-summer rainy days (inches): 0.20078740157480315\n"
     ]
    }
   ],
   "source": [
    "print('1.Median precip on rainy days in 2014 (inches):', np.median(inches[rainy])) #rainy = inches > 0\n",
    "print('2.Median precip on summer days in 2014 (inches):', np.median(inches[summer]))\n",
    "print('3.Maximum precip on summer days in 2014 (inches):', np.max(inches[summer]))\n",
    "print('4.Maximum precip on non-summer rainy days (inches):', np.median(inches[rainy & ~summer])) # ~ means bitwise not"
   ]
  },
  {
   "cell_type": "raw",
   "id": "35b5e4e3",
   "metadata": {},
   "source": [
    "Using the Keywords and/or Versus the Operators &/|"
   ]
  },
  {
   "cell_type": "code",
   "execution_count": 187,
   "id": "0c3f1b5a",
   "metadata": {},
   "outputs": [
    {
     "data": {
      "text/plain": [
       "(True, False)"
      ]
     },
     "execution_count": 187,
     "metadata": {},
     "output_type": "execute_result"
    }
   ],
   "source": [
    "bool(42), bool(0)"
   ]
  },
  {
   "cell_type": "code",
   "execution_count": 191,
   "id": "893500f4",
   "metadata": {},
   "outputs": [
    {
     "data": {
      "text/plain": [
       "array([ True,  True,  True, False,  True,  True])"
      ]
     },
     "execution_count": 191,
     "metadata": {},
     "output_type": "execute_result"
    }
   ],
   "source": [
    "A = np.array([1, 0, 1, 0, 1, 0], dtype=bool)\n",
    "B = np.array([1, 1, 1, 0, 1, 1], dtype = bool)\n",
    "\n",
    "A|B"
   ]
  },
  {
   "cell_type": "code",
   "execution_count": 192,
   "id": "a0394ccc",
   "metadata": {},
   "outputs": [
    {
     "data": {
      "text/plain": [
       "array([False, False, False, False, False,  True,  True,  True, False,\n",
       "       False])"
      ]
     },
     "execution_count": 192,
     "metadata": {},
     "output_type": "execute_result"
    }
   ],
   "source": [
    "x = np.arange(10)\n",
    "(x>4)&(x<8)"
   ]
  },
  {
   "cell_type": "raw",
   "id": "a2d00ba9",
   "metadata": {},
   "source": [
    "Fancy Indexing \n",
    "Exploring Fancy Indexing"
   ]
  },
  {
   "cell_type": "code",
   "execution_count": 197,
   "id": "705d9106",
   "metadata": {},
   "outputs": [
    {
     "name": "stdout",
     "output_type": "stream",
     "text": [
      "[51 92 14 71 60 20 82 86 74 74]\n"
     ]
    }
   ],
   "source": [
    "import numpy as np\n",
    "rand = np.random.RandomState(42)\n",
    "x = rand.randint(100, size=10)\n",
    "print(x)"
   ]
  },
  {
   "cell_type": "code",
   "execution_count": 199,
   "id": "da40cec4",
   "metadata": {},
   "outputs": [
    {
     "data": {
      "text/plain": [
       "array([71, 86, 60])"
      ]
     },
     "execution_count": 199,
     "metadata": {},
     "output_type": "execute_result"
    }
   ],
   "source": [
    "ind = [3,7,4] # return the number in the array at the position 3, 7 and 4\n",
    "x[ind]"
   ]
  },
  {
   "cell_type": "code",
   "execution_count": 202,
   "id": "28fca644",
   "metadata": {},
   "outputs": [
    {
     "data": {
      "text/plain": [
       "array([[71, 86],\n",
       "       [60, 20]])"
      ]
     },
     "execution_count": 202,
     "metadata": {},
     "output_type": "execute_result"
    }
   ],
   "source": [
    "#With fancy indexing, the shape of the result reflects the shape of the index arrays rather than the shape of the array being indexed:\n",
    "ind = np.array([[3, 7], [4, 5]])\n",
    "x[ind]"
   ]
  },
  {
   "cell_type": "code",
   "execution_count": 204,
   "id": "21583552",
   "metadata": {},
   "outputs": [
    {
     "data": {
      "text/plain": [
       "array([[ 0,  1,  2,  3],\n",
       "       [ 4,  5,  6,  7],\n",
       "       [ 8,  9, 10, 11]])"
      ]
     },
     "execution_count": 204,
     "metadata": {},
     "output_type": "execute_result"
    }
   ],
   "source": [
    "#Fancy indexing also works in multiple dimensions. - Consider the following array\n",
    "X = np.arange(12).reshape((3,4))\n",
    "X"
   ]
  },
  {
   "cell_type": "code",
   "execution_count": 207,
   "id": "f9874cee",
   "metadata": {},
   "outputs": [
    {
     "data": {
      "text/plain": [
       "array([ 2,  5, 11])"
      ]
     },
     "execution_count": 207,
     "metadata": {},
     "output_type": "execute_result"
    }
   ],
   "source": [
    "row = np.array([0, 1, 2])\n",
    "col = np.array([2, 1, 3])\n",
    "X[row, col]\n",
    "#if we combine a column vector and a row vector within the indices, we get a two-dimensional result:"
   ]
  },
  {
   "cell_type": "code",
   "execution_count": null,
   "id": "43145638",
   "metadata": {},
   "outputs": [],
   "source": [
    "#Restart at page 80 - Chapter 2: Introduction to Numpy"
   ]
  }
 ],
 "metadata": {
  "kernelspec": {
   "display_name": "Python 3.7.4 ('base')",
   "language": "python",
   "name": "python3"
  },
  "language_info": {
   "codemirror_mode": {
    "name": "ipython",
    "version": 3
   },
   "file_extension": ".py",
   "mimetype": "text/x-python",
   "name": "python",
   "nbconvert_exporter": "python",
   "pygments_lexer": "ipython3",
   "version": "3.7.4"
  },
  "vscode": {
   "interpreter": {
    "hash": "80ed3414b9407e1c1714391c25463e0e1f8cf1716594c4f3219a3635151a7068"
   }
  }
 },
 "nbformat": 4,
 "nbformat_minor": 5
}
